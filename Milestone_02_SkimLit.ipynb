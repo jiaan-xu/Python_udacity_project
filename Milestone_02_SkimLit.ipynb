{
  "nbformat": 4,
  "nbformat_minor": 0,
  "metadata": {
    "colab": {
      "provenance": [],
      "toc_visible": true,
      "authorship_tag": "ABX9TyMqVcQnPFwVrc+OaAVXuPws",
      "include_colab_link": true
    },
    "kernelspec": {
      "name": "python3",
      "display_name": "Python 3"
    },
    "language_info": {
      "name": "python"
    },
    "accelerator": "GPU"
  },
  "cells": [
    {
      "cell_type": "markdown",
      "metadata": {
        "id": "view-in-github",
        "colab_type": "text"
      },
      "source": [
        "<a href=\"https://colab.research.google.com/github/jiaan-xu/Python_udacity_project/blob/master/Milestone_02_SkimLit.ipynb\" target=\"_parent\"><img src=\"https://colab.research.google.com/assets/colab-badge.svg\" alt=\"Open In Colab\"/></a>"
      ]
    },
    {
      "cell_type": "markdown",
      "metadata": {
        "id": "pkk2exERyeYi"
      },
      "source": [
        "# PubMed 200k RCT SkimLit NLP Model\n",
        "The purpose of this project is to replicate the deep learning model presented in the 2016 MIT paper *Neural Networks for Joint Sentence Classification in Medical Paper Abstracts* by Frank Denoncourt, Ji Young Lee and Peter Szolovits.\n",
        "The model's task is to label medical abstract sentences and label each one with the role they serve in the paper. \\\n",
        "**For example given an abstract input:**\n",
        "> To investigate the efficacy of @ weeks of daily low-dose oral prednisolone in improving pain , mobility , and systemic low-grade inflammation in the short term and whether the effect would be sustained at @ weeks in older adults with moderate to severe knee osteoarthritis ( OA ). A total of @ patients with primary knee OA were randomized @:@ ; @ received @ mg/day of prednisolone and @ received placebo for @ weeks. Outcome measures included pain reduction and improvement in function scores and systemic inflammation markers. Pain was assessed using the visual analog pain scale ( @-@ mm ).\n",
        "Secondary outcome measures included the Western Ontario and McMaster Universities Osteoarthritis Index scores , patient global assessment ( PGA ) of the severity of knee OA , and @-min walk distance ( @MWD ).,\n",
        "Serum levels of interleukin @ ( IL-@ ) , IL-@ , tumor necrosis factor ( TNF ) - , and high-sensitivity C-reactive protein ( hsCRP ) were measured.\n",
        "There was a clinically relevant reduction in the intervention group compared to the placebo group for knee pain , physical function , PGA , and @MWD at @ weeks. The mean difference between treatment arms ( @ % CI ) was @ ( @-@ @ ) , p < @ ; @ ( @-@ @ ) , p < @ ; @ ( @-@ @ ) , p < @ ; and @ ( @-@ @ ) , p < @ , respectively. Further , there was a clinically relevant reduction in the serum levels of IL-@ , IL-@ , TNF - , and hsCRP at @ weeks in the intervention group when compared to the placebo group. These differences remained significant at @ weeks. The Outcome Measures in Rheumatology Clinical Trials-Osteoarthritis Research Society International responder rate was @ % in the intervention group and @ % in the placebo group ( p < @ ). Low-dose oral prednisolone had both a short-term and a longer sustained effect resulting in less knee pain , better physical function , and attenuation of systemic inflammation in older patients with knee OA ( ClinicalTrials.gov identifier NCT@ ).\n",
        "\n",
        "**The model can correctly output:**\n",
        "```\n",
        "['###24293578\\n',\n",
        " 'OBJECTIVE\\tTo investigate the efficacy of @ weeks of daily low-dose oral prednisolone in improving pain , mobility , and systemic low-grade inflammation in the short term and whether the effect would be sustained at @ weeks in older adults with moderate to severe knee osteoarthritis ( OA ) .\\n',\n",
        " 'METHODS\\tA total of @ patients with primary knee OA were randomized @:@ ; @ received @ mg/day of prednisolone and @ received placebo for @ weeks .\\n',\n",
        " 'METHODS\\tOutcome measures included pain reduction and improvement in function scores and systemic inflammation markers .\\n',\n",
        " 'METHODS\\tPain was assessed using the visual analog pain scale ( @-@ mm ) .\\n',\n",
        " 'METHODS\\tSecondary outcome measures included the Western Ontario and McMaster Universities Osteoarthritis Index scores , patient global assessment ( PGA ) of the severity of knee OA , and @-min walk distance ( @MWD ) .\\n',\n",
        " 'METHODS\\tSerum levels of interleukin @ ( IL-@ ) , IL-@ , tumor necrosis factor ( TNF ) - , and high-sensitivity C-reactive protein ( hsCRP ) were measured .\\n',\n",
        " 'RESULTS\\tThere was a clinically relevant reduction in the intervention group compared to the placebo group for knee pain , physical function , PGA , and @MWD at @ weeks .\\n',\n",
        " 'RESULTS\\tThe mean difference between treatment arms ( @ % CI ) was @ ( @-@ @ ) , p < @ ; @ ( @-@ @ ) , p < @ ; @ ( @-@ @ ) , p < @ ; and @ ( @-@ @ ) , p < @ , respectively .\\n',\n",
        " 'RESULTS\\tFurther , there was a clinically relevant reduction in the serum levels of IL-@ , IL-@ , TNF - , and hsCRP at @ weeks in the intervention group when compared to the placebo group .\\n',\n",
        " 'RESULTS\\tThese differences remained significant at @ weeks .\\n',\n",
        " 'RESULTS\\tThe Outcome Measures in Rheumatology Clinical Trials-Osteoarthritis Research Society International responder rate was @ % in the intervention group and @ % in the placebo group ( p < @ ) .\\n',\n",
        " 'CONCLUSIONS\\tLow-dose oral prednisolone had both a short-term and a longer sustained effect resulting in less knee pain , better physical function , and attenuation of systemic inflammation in older patients with knee OA ( ClinicalTrials.gov identifier NCT@ ) .\\n',\n",
        " '\\n']\n",
        " ```\n",
        "The dataset used for training and evaluating the model, , *PubMed 200k RCT*, is given by the same authors through Github. It consists of 200,000 abstracts of randomized controlled trials with each sentence of each abstract labelled with its role: background, objective, method, result, or conclusion. The dataset also contains a smaller subset of the main dataset with 20,000 abstracts.\n",
        "There are two versions of both the main dataset and the smaller dataset: one with the original text and one with all numbers replaced by the '@' symbol.\n",
        "\\\n",
        "*Sources*:\n",
        "* Github Dataset https://github.com/Franck-Dernoncourt/pubmed-rct\n",
        "* Deep Learning Model https://arxiv.org/pdf/1612.05251.pdf"
      ]
    },
    {
      "cell_type": "markdown",
      "metadata": {
        "id": "4wgtpkxibo9t"
      },
      "source": [
        "## Importing the relevant libraries"
      ]
    },
    {
      "cell_type": "code",
      "metadata": {
        "id": "yhbvBEYgdaZ-"
      },
      "source": [
        "import tensorflow as tf\n",
        "import numpy as np\n",
        "import pandas as pd\n",
        "import matplotlib.pyplot as plt\n",
        "import seaborn as sns\n",
        "import os\n",
        "sns.set()"
      ],
      "execution_count": null,
      "outputs": []
    },
    {
      "cell_type": "markdown",
      "metadata": {
        "id": "RaBS7QM5drEb"
      },
      "source": [
        "## Downloading the data"
      ]
    },
    {
      "cell_type": "code",
      "metadata": {
        "colab": {
          "base_uri": "https://localhost:8080/"
        },
        "id": "0XqtU37Yd1va",
        "outputId": "716689d9-9bf7-4632-9271-d1e747fcc2f1"
      },
      "source": [
        "!git clone https://github.com/Franck-Dernoncourt/pubmed-rct.git"
      ],
      "execution_count": null,
      "outputs": [
        {
          "output_type": "stream",
          "text": [
            "Cloning into 'pubmed-rct'...\n",
            "remote: Enumerating objects: 30, done.\u001b[K\n",
            "remote: Total 30 (delta 0), reused 0 (delta 0), pack-reused 30\u001b[K\n",
            "Unpacking objects: 100% (30/30), done.\n"
          ],
          "name": "stdout"
        }
      ]
    },
    {
      "cell_type": "code",
      "metadata": {
        "colab": {
          "base_uri": "https://localhost:8080/"
        },
        "id": "3JNGy2-kd8HZ",
        "outputId": "ef955341-7c94-415f-ce77-59e62d4c521b"
      },
      "source": [
        "!ls pubmed-rct"
      ],
      "execution_count": null,
      "outputs": [
        {
          "output_type": "stream",
          "text": [
            "PubMed_200k_RCT\n",
            "PubMed_200k_RCT_numbers_replaced_with_at_sign\n",
            "PubMed_20k_RCT\n",
            "PubMed_20k_RCT_numbers_replaced_with_at_sign\n",
            "README.md\n"
          ],
          "name": "stdout"
        }
      ]
    },
    {
      "cell_type": "code",
      "metadata": {
        "colab": {
          "base_uri": "https://localhost:8080/"
        },
        "id": "TFiZu1WAeCaU",
        "outputId": "35ec1928-3577-4109-8939-33cf151ebdd5"
      },
      "source": [
        "!ls '/content/pubmed-rct/PubMed_200k_RCT_numbers_replaced_with_at_sign'"
      ],
      "execution_count": null,
      "outputs": [
        {
          "output_type": "stream",
          "text": [
            "dev.txt  test.txt  train.zip\n"
          ],
          "name": "stdout"
        }
      ]
    },
    {
      "cell_type": "code",
      "metadata": {
        "colab": {
          "base_uri": "https://localhost:8080/"
        },
        "id": "1tJcQk28eNqp",
        "outputId": "ded208c2-ad9b-4e16-e0b9-688f239011bb"
      },
      "source": [
        "!ls '/content/pubmed-rct/PubMed_20k_RCT_numbers_replaced_with_at_sign'"
      ],
      "execution_count": null,
      "outputs": [
        {
          "output_type": "stream",
          "text": [
            "dev.txt  test.txt  train.txt\n"
          ],
          "name": "stdout"
        }
      ]
    },
    {
      "cell_type": "markdown",
      "metadata": {
        "id": "ITB_VrWHeVqZ"
      },
      "source": [
        "## Preprocessing the data"
      ]
    },
    {
      "cell_type": "code",
      "metadata": {
        "id": "JNduvSL3gldR"
      },
      "source": [
        "# Defining a function to get each single line from the files\n",
        "def get_lines(filename):\n",
        "  '''\n",
        "  Takes in a filename and returns the lines of text inside the file\n",
        "\n",
        "  Args:\n",
        "    Filename(str): path of the filename\n",
        "  '''\n",
        "  with open(filename, 'r') as f:\n",
        "    return f.readlines()"
      ],
      "execution_count": null,
      "outputs": []
    },
    {
      "cell_type": "code",
      "metadata": {
        "colab": {
          "base_uri": "https://localhost:8080/"
        },
        "id": "-Bfnzp9UhZDM",
        "outputId": "559d82ba-3a52-4f87-d2f7-d8b8dfb90530"
      },
      "source": [
        "train_lines = get_lines('/content/pubmed-rct/PubMed_20k_RCT_numbers_replaced_with_at_sign/train.txt')\n",
        "train_lines[:40]"
      ],
      "execution_count": null,
      "outputs": [
        {
          "output_type": "execute_result",
          "data": {
            "text/plain": [
              "['###24293578\\n',\n",
              " 'OBJECTIVE\\tTo investigate the efficacy of @ weeks of daily low-dose oral prednisolone in improving pain , mobility , and systemic low-grade inflammation in the short term and whether the effect would be sustained at @ weeks in older adults with moderate to severe knee osteoarthritis ( OA ) .\\n',\n",
              " 'METHODS\\tA total of @ patients with primary knee OA were randomized @:@ ; @ received @ mg/day of prednisolone and @ received placebo for @ weeks .\\n',\n",
              " 'METHODS\\tOutcome measures included pain reduction and improvement in function scores and systemic inflammation markers .\\n',\n",
              " 'METHODS\\tPain was assessed using the visual analog pain scale ( @-@ mm ) .\\n',\n",
              " 'METHODS\\tSecondary outcome measures included the Western Ontario and McMaster Universities Osteoarthritis Index scores , patient global assessment ( PGA ) of the severity of knee OA , and @-min walk distance ( @MWD ) .\\n',\n",
              " 'METHODS\\tSerum levels of interleukin @ ( IL-@ ) , IL-@ , tumor necrosis factor ( TNF ) - , and high-sensitivity C-reactive protein ( hsCRP ) were measured .\\n',\n",
              " 'RESULTS\\tThere was a clinically relevant reduction in the intervention group compared to the placebo group for knee pain , physical function , PGA , and @MWD at @ weeks .\\n',\n",
              " 'RESULTS\\tThe mean difference between treatment arms ( @ % CI ) was @ ( @-@ @ ) , p < @ ; @ ( @-@ @ ) , p < @ ; @ ( @-@ @ ) , p < @ ; and @ ( @-@ @ ) , p < @ , respectively .\\n',\n",
              " 'RESULTS\\tFurther , there was a clinically relevant reduction in the serum levels of IL-@ , IL-@ , TNF - , and hsCRP at @ weeks in the intervention group when compared to the placebo group .\\n',\n",
              " 'RESULTS\\tThese differences remained significant at @ weeks .\\n',\n",
              " 'RESULTS\\tThe Outcome Measures in Rheumatology Clinical Trials-Osteoarthritis Research Society International responder rate was @ % in the intervention group and @ % in the placebo group ( p < @ ) .\\n',\n",
              " 'CONCLUSIONS\\tLow-dose oral prednisolone had both a short-term and a longer sustained effect resulting in less knee pain , better physical function , and attenuation of systemic inflammation in older patients with knee OA ( ClinicalTrials.gov identifier NCT@ ) .\\n',\n",
              " '\\n',\n",
              " '###24854809\\n',\n",
              " 'BACKGROUND\\tEmotional eating is associated with overeating and the development of obesity .\\n',\n",
              " 'BACKGROUND\\tYet , empirical evidence for individual ( trait ) differences in emotional eating and cognitive mechanisms that contribute to eating during sad mood remain equivocal .\\n',\n",
              " 'OBJECTIVE\\tThe aim of this study was to test if attention bias for food moderates the effect of self-reported emotional eating during sad mood ( vs neutral mood ) on actual food intake .\\n',\n",
              " 'OBJECTIVE\\tIt was expected that emotional eating is predictive of elevated attention for food and higher food intake after an experimentally induced sad mood and that attentional maintenance on food predicts food intake during a sad versus a neutral mood .\\n',\n",
              " 'METHODS\\tParticipants ( N = @ ) were randomly assigned to one of the two experimental mood induction conditions ( sad/neutral ) .\\n',\n",
              " 'METHODS\\tAttentional biases for high caloric foods were measured by eye tracking during a visual probe task with pictorial food and neutral stimuli .\\n',\n",
              " 'METHODS\\tSelf-reported emotional eating was assessed with the Dutch Eating Behavior Questionnaire ( DEBQ ) and ad libitum food intake was tested by a disguised food offer .\\n',\n",
              " 'RESULTS\\tHierarchical multivariate regression modeling showed that self-reported emotional eating did not account for changes in attention allocation for food or food intake in either condition .\\n',\n",
              " 'RESULTS\\tYet , attention maintenance on food cues was significantly related to increased intake specifically in the neutral condition , but not in the sad mood condition .\\n',\n",
              " 'CONCLUSIONS\\tThe current findings show that self-reported emotional eating ( based on the DEBQ ) might not validly predict who overeats when sad , at least not in a laboratory setting with healthy women .\\n',\n",
              " 'CONCLUSIONS\\tResults further suggest that attention maintenance on food relates to eating motivation when in a neutral affective state , and might therefore be a cognitive mechanism contributing to increased food intake in general , but maybe not during sad mood .\\n',\n",
              " '\\n',\n",
              " '###25165090\\n',\n",
              " 'BACKGROUND\\tAlthough working smoke alarms halve deaths in residential fires , many households do not keep alarms operational .\\n',\n",
              " 'BACKGROUND\\tWe tested whether theory-based education increases alarm operability .\\n',\n",
              " 'METHODS\\tRandomised multiarm trial , with a single arm randomly selected for use each day , in low-income neighbourhoods in Maryland , USA .\\n',\n",
              " \"METHODS\\tIntervention arms : ( @ ) Full Education combining a health belief module with a social-cognitive theory module that provided hands-on practice installing alarm batteries and using the alarm 's hush button ; ( @ ) Hands-on Practice social-cognitive module supplemented by typical fire department education ; ( @ ) Current Norm receiving typical fire department education only .\\n\",\n",
              " 'METHODS\\tFour hundred and thirty-six homes recruited through churches or by knocking on doors in @-@ .\\n',\n",
              " 'METHODS\\tFollow-up visits checked alarm operability in @ homes ( @ % ) @-@ @ years after installation .\\n',\n",
              " 'METHODS\\tnumber of homes with working alarms defined as alarms with working batteries or hard-wired and number of working alarms per home .\\n',\n",
              " 'METHODS\\tRegressions controlled for alarm status preintervention ; demographics and beliefs about fire risks and alarm effectiveness .\\n',\n",
              " 'RESULTS\\tHomes in the Full Education and Practice arms were more likely to have a functioning smoke alarm at follow-up ( OR = @ , @ % CI @ to @ ) and had an average of @ more working alarms per home ( @ % CI @ to @ ) .\\n',\n",
              " 'RESULTS\\tWorking alarms per home rose @ % .\\n',\n",
              " 'RESULTS\\tFull Education and Practice had similar effectiveness ( p = @ on both outcome measures ) .\\n',\n",
              " 'CONCLUSIONS\\tWithout exceeding typical fire department installation time , installers can achieve greater smoke alarm operability .\\n']"
            ]
          },
          "metadata": {
            "tags": []
          },
          "execution_count": 9
        }
      ]
    },
    {
      "cell_type": "code",
      "metadata": {
        "id": "DMg4_lVahgJ0"
      },
      "source": [
        "# Defining a preprocessing function to store each sentence and its target label in a dictionary\n",
        "def preprocessing_text(filename):\n",
        "  \"\"\"Returns a list of dictionaries of abstract line data.\n",
        "\n",
        "  Takes in filename, reads its contents and sorts through each line,\n",
        "  extracting things like the target label, the text of the sentence,\n",
        "  how many sentences are in the current abstract and what sentence number\n",
        "  the target line is.\n",
        "\n",
        "  Args:\n",
        "      filename: a string of the target text file to read and extract line data\n",
        "      from.\n",
        "\n",
        "  Returns:\n",
        "      A list of dictionaries each containing a line from an abstract,\n",
        "      the lines label, the lines position in the abstract and the total number\n",
        "      of lines in the abstract where the line is from. For example:\n",
        "\n",
        "      [{\"target\": 'CONCLUSION',\n",
        "        \"text\": The study couldn't have gone better, turns out people are kinder than you think\",\n",
        "        \"line_number\": 8,\n",
        "        \"total_lines\": 8}]\n",
        "  \"\"\"\n",
        "\n",
        "  input_lines = get_lines(filename)\n",
        "  abstract_lines = \"\"\n",
        "  samples = []\n",
        "  for line in input_lines:\n",
        "    if line.startswith(\"###\"):\n",
        "      abstract_lines = \"\"\n",
        "    elif line.isspace():\n",
        "      abstract_lines_split = abstract_lines.splitlines()\n",
        "      for line_number, line_text  in enumerate(abstract_lines_split):\n",
        "        line_dict = {}\n",
        "        line_text_split = line_text.split('\\t')\n",
        "        line_dict['target'] = line_text_split[0]\n",
        "        line_dict['text'] = line_text_split[1].lower()\n",
        "        line_dict['line number'] = line_number\n",
        "        line_dict['total lines'] = len(abstract_lines_split) - 1\n",
        "        samples.append(line_dict)\n",
        "    else:\n",
        "      abstract_lines += line\n",
        "  return samples"
      ],
      "execution_count": null,
      "outputs": []
    },
    {
      "cell_type": "code",
      "metadata": {
        "id": "2T8JgxFosIot"
      },
      "source": [
        "train_preprocessed = preprocessing_text(\"/content/pubmed-rct/PubMed_20k_RCT_numbers_replaced_with_at_sign/train.txt\")\n",
        "validation_preprocessed = preprocessing_text('/content/pubmed-rct/PubMed_20k_RCT_numbers_replaced_with_at_sign/dev.txt')\n",
        "test_preprocessed = preprocessing_text('/content/pubmed-rct/PubMed_20k_RCT_numbers_replaced_with_at_sign/test.txt')"
      ],
      "execution_count": null,
      "outputs": []
    },
    {
      "cell_type": "code",
      "metadata": {
        "colab": {
          "base_uri": "https://localhost:8080/"
        },
        "id": "5KnfRNGFs0Ku",
        "outputId": "bb035d7b-8886-4f36-f505-709699b7b661"
      },
      "source": [
        "train_preprocessed[:5]"
      ],
      "execution_count": null,
      "outputs": [
        {
          "output_type": "execute_result",
          "data": {
            "text/plain": [
              "[{'line number': 0,\n",
              "  'target': 'OBJECTIVE',\n",
              "  'text': 'to investigate the efficacy of @ weeks of daily low-dose oral prednisolone in improving pain , mobility , and systemic low-grade inflammation in the short term and whether the effect would be sustained at @ weeks in older adults with moderate to severe knee osteoarthritis ( oa ) .',\n",
              "  'total lines': 11},\n",
              " {'line number': 1,\n",
              "  'target': 'METHODS',\n",
              "  'text': 'a total of @ patients with primary knee oa were randomized @:@ ; @ received @ mg/day of prednisolone and @ received placebo for @ weeks .',\n",
              "  'total lines': 11},\n",
              " {'line number': 2,\n",
              "  'target': 'METHODS',\n",
              "  'text': 'outcome measures included pain reduction and improvement in function scores and systemic inflammation markers .',\n",
              "  'total lines': 11},\n",
              " {'line number': 3,\n",
              "  'target': 'METHODS',\n",
              "  'text': 'pain was assessed using the visual analog pain scale ( @-@ mm ) .',\n",
              "  'total lines': 11},\n",
              " {'line number': 4,\n",
              "  'target': 'METHODS',\n",
              "  'text': 'secondary outcome measures included the western ontario and mcmaster universities osteoarthritis index scores , patient global assessment ( pga ) of the severity of knee oa , and @-min walk distance ( @mwd ) .',\n",
              "  'total lines': 11}]"
            ]
          },
          "metadata": {
            "tags": []
          },
          "execution_count": 12
        }
      ]
    },
    {
      "cell_type": "code",
      "metadata": {
        "colab": {
          "base_uri": "https://localhost:8080/",
          "height": 196
        },
        "id": "f1CCgfm0iVih",
        "outputId": "22eeb837-8508-4527-8595-f3e576d6353c"
      },
      "source": [
        "# Getting the training, validation, and test data into pandas dataframes\n",
        "train_df = pd.DataFrame(train_preprocessed)\n",
        "validation_df = pd.DataFrame(validation_preprocessed)\n",
        "test_df = pd.DataFrame(test_preprocessed)\n",
        "\n",
        "train_df.head()"
      ],
      "execution_count": null,
      "outputs": [
        {
          "output_type": "execute_result",
          "data": {
            "text/html": [
              "<div>\n",
              "<style scoped>\n",
              "    .dataframe tbody tr th:only-of-type {\n",
              "        vertical-align: middle;\n",
              "    }\n",
              "\n",
              "    .dataframe tbody tr th {\n",
              "        vertical-align: top;\n",
              "    }\n",
              "\n",
              "    .dataframe thead th {\n",
              "        text-align: right;\n",
              "    }\n",
              "</style>\n",
              "<table border=\"1\" class=\"dataframe\">\n",
              "  <thead>\n",
              "    <tr style=\"text-align: right;\">\n",
              "      <th></th>\n",
              "      <th>target</th>\n",
              "      <th>text</th>\n",
              "      <th>line number</th>\n",
              "      <th>total lines</th>\n",
              "    </tr>\n",
              "  </thead>\n",
              "  <tbody>\n",
              "    <tr>\n",
              "      <th>0</th>\n",
              "      <td>OBJECTIVE</td>\n",
              "      <td>to investigate the efficacy of @ weeks of dail...</td>\n",
              "      <td>0</td>\n",
              "      <td>11</td>\n",
              "    </tr>\n",
              "    <tr>\n",
              "      <th>1</th>\n",
              "      <td>METHODS</td>\n",
              "      <td>a total of @ patients with primary knee oa wer...</td>\n",
              "      <td>1</td>\n",
              "      <td>11</td>\n",
              "    </tr>\n",
              "    <tr>\n",
              "      <th>2</th>\n",
              "      <td>METHODS</td>\n",
              "      <td>outcome measures included pain reduction and i...</td>\n",
              "      <td>2</td>\n",
              "      <td>11</td>\n",
              "    </tr>\n",
              "    <tr>\n",
              "      <th>3</th>\n",
              "      <td>METHODS</td>\n",
              "      <td>pain was assessed using the visual analog pain...</td>\n",
              "      <td>3</td>\n",
              "      <td>11</td>\n",
              "    </tr>\n",
              "    <tr>\n",
              "      <th>4</th>\n",
              "      <td>METHODS</td>\n",
              "      <td>secondary outcome measures included the wester...</td>\n",
              "      <td>4</td>\n",
              "      <td>11</td>\n",
              "    </tr>\n",
              "  </tbody>\n",
              "</table>\n",
              "</div>"
            ],
            "text/plain": [
              "      target  ... total lines\n",
              "0  OBJECTIVE  ...          11\n",
              "1    METHODS  ...          11\n",
              "2    METHODS  ...          11\n",
              "3    METHODS  ...          11\n",
              "4    METHODS  ...          11\n",
              "\n",
              "[5 rows x 4 columns]"
            ]
          },
          "metadata": {
            "tags": []
          },
          "execution_count": 13
        }
      ]
    },
    {
      "cell_type": "code",
      "metadata": {
        "colab": {
          "base_uri": "https://localhost:8080/"
        },
        "id": "Nit30EUIijJE",
        "outputId": "dfc9a092-9c68-4ead-b6f6-2a4a41ed95b7"
      },
      "source": [
        "len(train_df), len(validation_df), len(test_df)"
      ],
      "execution_count": null,
      "outputs": [
        {
          "output_type": "execute_result",
          "data": {
            "text/plain": [
              "(180040, 30212, 30135)"
            ]
          },
          "metadata": {
            "tags": []
          },
          "execution_count": 14
        }
      ]
    },
    {
      "cell_type": "code",
      "metadata": {
        "colab": {
          "base_uri": "https://localhost:8080/",
          "height": 518
        },
        "id": "filLVooEi4xS",
        "outputId": "a843fdd3-eb6f-4fec-df28-cc47e7d77ec1"
      },
      "source": [
        "# Exploring the distribution of target labels in the datasets\n",
        "fig, (ax1, ax2, ax3) = plt.subplots(nrows = 1, ncols = 3, figsize = (14, 7), sharex = True)\n",
        "sns.histplot(ax = ax1, x = train_df['target'], hue = train_df['target'])\n",
        "sns.histplot(ax = ax2, x = validation_df['target'], hue = validation_df['target'])\n",
        "sns.histplot(ax = ax3, x = test_df['target'], hue = test_df['target'])\n",
        "plt.setp(ax1.xaxis.get_majorticklabels(), rotation=45)\n",
        "plt.setp(ax2.xaxis.get_majorticklabels(), rotation=45)\n",
        "plt.setp(ax3.xaxis.get_majorticklabels(), rotation=45)"
      ],
      "execution_count": null,
      "outputs": [
        {
          "output_type": "execute_result",
          "data": {
            "text/plain": [
              "[None, None, None, None, None, None, None, None, None, None]"
            ]
          },
          "metadata": {
            "tags": []
          },
          "execution_count": 15
        },
        {
          "output_type": "display_data",
          "data": {
            "image/png": "[encoded data removed]",
            "text/plain": [
              "<Figure size 1008x504 with 3 Axes>"
            ]
          },
          "metadata": {
            "tags": []
          }
        }
      ]
    },
    {
      "cell_type": "code",
      "metadata": {
        "colab": {
          "base_uri": "https://localhost:8080/",
          "height": 465
        },
        "id": "4Sv2IeBSkQab",
        "outputId": "9e533235-6545-45a6-8350-9caaaaeb6403"
      },
      "source": [
        "# Exploring the distribution of total lines per medical abstract in the datasets\n",
        "fig, (ax1, ax2, ax3) = plt.subplots(nrows = 1, ncols = 3, figsize = (14, 7), sharex = True)\n",
        "sns.histplot(ax = ax1, x = train_df['total lines'])\n",
        "sns.histplot(ax = ax2, x = validation_df['total lines'])\n",
        "sns.histplot(ax = ax3, x = test_df['total lines'])"
      ],
      "execution_count": null,
      "outputs": [
        {
          "output_type": "execute_result",
          "data": {
            "text/plain": [
              "<matplotlib.axes._subplots.AxesSubplot at 0x7f5eb752b2d0>"
            ]
          },
          "metadata": {
            "tags": []
          },
          "execution_count": 16
        },
        {
          "output_type": "display_data",
          "data": {
            "image/png": "[encoded data removed]",
            "text/plain": [
              "<Figure size 1008x504 with 3 Axes>"
            ]
          },
          "metadata": {
            "tags": []
          }
        }
      ]
    },
    {
      "cell_type": "code",
      "metadata": {
        "colab": {
          "base_uri": "https://localhost:8080/"
        },
        "id": "9J85mBuZmq45",
        "outputId": "b6ad02c1-9c3a-4c9f-cbe2-a87595dce8eb"
      },
      "source": [
        "# Separating text sentences from their target labels\n",
        "train_sentences, train_labels = train_df['text'].to_numpy(), train_df['target'].to_numpy()\n",
        "validation_sentences, validation_labels = validation_df['text'].to_numpy(), validation_df['target'].to_numpy()\n",
        "test_sentences, test_labels = test_df['text'].to_numpy(), test_df['target'].to_numpy()\n",
        "\n",
        "train_sentences[:10], train_labels[:10]"
      ],
      "execution_count": null,
      "outputs": [
        {
          "output_type": "execute_result",
          "data": {
            "text/plain": [
              "(array(['to investigate the efficacy of @ weeks of daily low-dose oral prednisolone in improving pain , mobility , and systemic low-grade inflammation in the short term and whether the effect would be sustained at @ weeks in older adults with moderate to severe knee osteoarthritis ( oa ) .',\n",
              "        'a total of @ patients with primary knee oa were randomized @:@ ; @ received @ mg/day of prednisolone and @ received placebo for @ weeks .',\n",
              "        'outcome measures included pain reduction and improvement in function scores and systemic inflammation markers .',\n",
              "        'pain was assessed using the visual analog pain scale ( @-@ mm ) .',\n",
              "        'secondary outcome measures included the western ontario and mcmaster universities osteoarthritis index scores , patient global assessment ( pga ) of the severity of knee oa , and @-min walk distance ( @mwd ) .',\n",
              "        'serum levels of interleukin @ ( il-@ ) , il-@ , tumor necrosis factor ( tnf ) - , and high-sensitivity c-reactive protein ( hscrp ) were measured .',\n",
              "        'there was a clinically relevant reduction in the intervention group compared to the placebo group for knee pain , physical function , pga , and @mwd at @ weeks .',\n",
              "        'the mean difference between treatment arms ( @ % ci ) was @ ( @-@ @ ) , p < @ ; @ ( @-@ @ ) , p < @ ; @ ( @-@ @ ) , p < @ ; and @ ( @-@ @ ) , p < @ , respectively .',\n",
              "        'further , there was a clinically relevant reduction in the serum levels of il-@ , il-@ , tnf - , and hscrp at @ weeks in the intervention group when compared to the placebo group .',\n",
              "        'these differences remained significant at @ weeks .'],\n",
              "       dtype=object),\n",
              " array(['OBJECTIVE', 'METHODS', 'METHODS', 'METHODS', 'METHODS', 'METHODS',\n",
              "        'RESULTS', 'RESULTS', 'RESULTS', 'RESULTS'], dtype=object))"
            ]
          },
          "metadata": {
            "tags": []
          },
          "execution_count": 17
        }
      ]
    },
    {
      "cell_type": "markdown",
      "metadata": {
        "id": "ysj2HI5JnMgw"
      },
      "source": [
        "### One-Hot Encoding Labels"
      ]
    },
    {
      "cell_type": "code",
      "metadata": {
        "id": "PUmrcUTDqji1"
      },
      "source": [
        "from sklearn.preprocessing import OneHotEncoder"
      ],
      "execution_count": null,
      "outputs": []
    },
    {
      "cell_type": "code",
      "metadata": {
        "colab": {
          "base_uri": "https://localhost:8080/"
        },
        "id": "6npWp9U2rQFn",
        "outputId": "ff7c7d3c-e768-4c99-86d1-ed9a369504d6"
      },
      "source": [
        "# Creating a one-hot encoding for each of the label datasets\n",
        "one_hot_encoder = OneHotEncoder(sparse = False)\n",
        "train_labels_one_hot = one_hot_encoder.fit_transform(train_labels.reshape(-1, 1))\n",
        "validation_labels_one_hot = one_hot_encoder.transform(validation_labels.reshape(-1, 1))\n",
        "test_labels_one_hot = one_hot_encoder.transform(test_labels.reshape(-1, 1))\n",
        "train_labels_one_hot"
      ],
      "execution_count": null,
      "outputs": [
        {
          "output_type": "execute_result",
          "data": {
            "text/plain": [
              "array([[0., 0., 0., 1., 0.],\n",
              "       [0., 0., 1., 0., 0.],\n",
              "       [0., 0., 1., 0., 0.],\n",
              "       ...,\n",
              "       [0., 0., 0., 0., 1.],\n",
              "       [0., 1., 0., 0., 0.],\n",
              "       [0., 1., 0., 0., 0.]])"
            ]
          },
          "metadata": {
            "tags": []
          },
          "execution_count": 19
        }
      ]
    },
    {
      "cell_type": "markdown",
      "metadata": {
        "id": "Y--r4IGQthQn"
      },
      "source": [
        "### Integer encoding labels"
      ]
    },
    {
      "cell_type": "code",
      "metadata": {
        "id": "R3lKWyr3utY-"
      },
      "source": [
        "from sklearn.preprocessing import LabelEncoder"
      ],
      "execution_count": null,
      "outputs": []
    },
    {
      "cell_type": "code",
      "metadata": {
        "colab": {
          "base_uri": "https://localhost:8080/"
        },
        "id": "3kBbvA7Xu1WN",
        "outputId": "ea04a1bf-5aa9-4bea-fa02-6b7c981974ad"
      },
      "source": [
        "# Creating an integer encoding for each of the label datasets\n",
        "label_encoder = LabelEncoder()\n",
        "train_labels_int = label_encoder.fit_transform(train_labels)\n",
        "validation_labels_int = label_encoder.transform(validation_labels)\n",
        "test_labels_int = label_encoder.transform(test_labels)\n",
        "train_labels_int"
      ],
      "execution_count": null,
      "outputs": [
        {
          "output_type": "execute_result",
          "data": {
            "text/plain": [
              "array([3, 2, 2, ..., 4, 1, 1])"
            ]
          },
          "metadata": {
            "tags": []
          },
          "execution_count": 21
        }
      ]
    },
    {
      "cell_type": "code",
      "metadata": {
        "colab": {
          "base_uri": "https://localhost:8080/"
        },
        "id": "e0RM7g03vYjX",
        "outputId": "6625cca4-1ca4-4bba-9b21-7d150e5b5c96"
      },
      "source": [
        "label_encoder.classes_"
      ],
      "execution_count": null,
      "outputs": [
        {
          "output_type": "execute_result",
          "data": {
            "text/plain": [
              "array(['BACKGROUND', 'CONCLUSIONS', 'METHODS', 'OBJECTIVE', 'RESULTS'],\n",
              "      dtype=object)"
            ]
          },
          "metadata": {
            "tags": []
          },
          "execution_count": 22
        }
      ]
    },
    {
      "cell_type": "markdown",
      "metadata": {
        "id": "400sfMv6vh-Y"
      },
      "source": [
        "## Model 0: Multinomial Naive Bayes"
      ]
    },
    {
      "cell_type": "code",
      "metadata": {
        "id": "bhJ213Fgvs0w"
      },
      "source": [
        "from sklearn.pipeline import Pipeline\n",
        "from sklearn.feature_extraction.text import TfidfVectorizer\n",
        "from sklearn.naive_bayes import MultinomialNB"
      ],
      "execution_count": null,
      "outputs": []
    },
    {
      "cell_type": "code",
      "metadata": {
        "id": "pGX-FSqcvw-l"
      },
      "source": [
        "# Instantiating the pipeline for the multinomial naive bayes model\n",
        "model_0 = Pipeline([\n",
        "                    ('tfidf', TfidfVectorizer()),\n",
        "                    ('clf', MultinomialNB())\n",
        "])"
      ],
      "execution_count": null,
      "outputs": []
    },
    {
      "cell_type": "code",
      "metadata": {
        "colab": {
          "base_uri": "https://localhost:8080/"
        },
        "id": "jH7i9VeSxXev",
        "outputId": "a45df543-ecd8-44bc-b804-bb3a2a0188c8"
      },
      "source": [
        "# Fitting the model\n",
        "model_0.fit(train_sentences, train_labels_int)"
      ],
      "execution_count": null,
      "outputs": [
        {
          "output_type": "execute_result",
          "data": {
            "text/plain": [
              "Pipeline(memory=None,\n",
              "         steps=[('tfidf',\n",
              "                 TfidfVectorizer(analyzer='word', binary=False,\n",
              "                                 decode_error='strict',\n",
              "                                 dtype=<class 'numpy.float64'>,\n",
              "                                 encoding='utf-8', input='content',\n",
              "                                 lowercase=True, max_df=1.0, max_features=None,\n",
              "                                 min_df=1, ngram_range=(1, 1), norm='l2',\n",
              "                                 preprocessor=None, smooth_idf=True,\n",
              "                                 stop_words=None, strip_accents=None,\n",
              "                                 sublinear_tf=False,\n",
              "                                 token_pattern='(?u)\\\\b\\\\w\\\\w+\\\\b',\n",
              "                                 tokenizer=None, use_idf=True,\n",
              "                                 vocabulary=None)),\n",
              "                ('clf',\n",
              "                 MultinomialNB(alpha=1.0, class_prior=None, fit_prior=True))],\n",
              "         verbose=False)"
            ]
          },
          "metadata": {
            "tags": []
          },
          "execution_count": 25
        }
      ]
    },
    {
      "cell_type": "code",
      "metadata": {
        "colab": {
          "base_uri": "https://localhost:8080/"
        },
        "id": "f9WabXCkxyva",
        "outputId": "a87d51a9-8755-4fcf-a373-0b001a23a2f8"
      },
      "source": [
        "# Model results\n",
        "model_0.score(test_sentences, test_labels_int)"
      ],
      "execution_count": null,
      "outputs": [
        {
          "output_type": "execute_result",
          "data": {
            "text/plain": [
              "0.716674962667994"
            ]
          },
          "metadata": {
            "tags": []
          },
          "execution_count": 26
        }
      ]
    },
    {
      "cell_type": "code",
      "metadata": {
        "id": "iDqwmvelx-ye"
      },
      "source": [
        "# Defining a function to evaluate models based on four classification metrics\n",
        "from sklearn.metrics import accuracy_score, precision_recall_fscore_support\n",
        "def model_evaluation(y_true, y_pred):\n",
        "  precision_score, recall_score, f1_score, _ = precision_recall_fscore_support(y_true, y_pred, average = 'weighted')\n",
        "  dict = {'Accuracy':accuracy_score(y_true, y_pred),\n",
        "          'Precision':precision_score,\n",
        "          'Recall':recall_score,\n",
        "          'F1':f1_score}\n",
        "  return dict"
      ],
      "execution_count": null,
      "outputs": []
    },
    {
      "cell_type": "code",
      "metadata": {
        "colab": {
          "base_uri": "https://localhost:8080/"
        },
        "id": "Qrcno-urz72p",
        "outputId": "091d9c84-a87d-4605-d9c4-2fb6dc7aa78c"
      },
      "source": [
        "# Model metrics\n",
        "model_0_preds = model_0.predict(test_sentences)\n",
        "model_0_results = model_evaluation(test_labels_int, model_0_preds)\n",
        "model_0_results"
      ],
      "execution_count": null,
      "outputs": [
        {
          "output_type": "execute_result",
          "data": {
            "text/plain": [
              "{'Accuracy': 0.716674962667994,\n",
              " 'F1': 0.6925101703856846,\n",
              " 'Precision': 0.7124322482375202,\n",
              " 'Recall': 0.716674962667994}"
            ]
          },
          "metadata": {
            "tags": []
          },
          "execution_count": 28
        }
      ]
    },
    {
      "cell_type": "markdown",
      "metadata": {
        "id": "s4n88q-b0HZe"
      },
      "source": [
        "## Model 1: Conv1D with Token-level Embedding"
      ]
    },
    {
      "cell_type": "code",
      "metadata": {
        "id": "rKoKjQsS0dh7"
      },
      "source": [
        "from tensorflow.keras.layers.experimental.preprocessing import TextVectorization\n",
        "\n",
        "# Creating a text vectorizer layer\n",
        "sentence_lengths = [len(i.split()) for i in train_sentences]\n",
        "MAX_TOKENS = 68000 # Derived from the research paper\n",
        "MAX_LENGTH = int(np.percentile(sentence_lengths, q = 95)) # Length of the token vectors will cover 95% of the sentences in length\n",
        "text_vectorizer = TextVectorization(max_tokens = MAX_TOKENS,\n",
        "                                    output_sequence_length = MAX_LENGTH,\n",
        "                                    output_mode = 'int',\n",
        "                                    pad_to_max_tokens = True)\n",
        "\n",
        "# Adapting the vectorizer to our training sentences\n",
        "text_vectorizer.adapt(train_sentences)"
      ],
      "execution_count": null,
      "outputs": []
    },
    {
      "cell_type": "code",
      "metadata": {
        "colab": {
          "base_uri": "https://localhost:8080/"
        },
        "id": "3UolV5x-CYVz",
        "outputId": "177a6272-3078-4d2f-ed64-ed48f69cfb97"
      },
      "source": [
        "# Configuration of the instantiated text vectorizer\n",
        "text_vectorizer.get_config()"
      ],
      "execution_count": null,
      "outputs": [
        {
          "output_type": "execute_result",
          "data": {
            "text/plain": [
              "{'dtype': 'string',\n",
              " 'max_tokens': 68000,\n",
              " 'name': 'text_vectorization',\n",
              " 'ngrams': None,\n",
              " 'output_mode': 'int',\n",
              " 'output_sequence_length': 55,\n",
              " 'pad_to_max_tokens': True,\n",
              " 'split': 'whitespace',\n",
              " 'standardize': 'lower_and_strip_punctuation',\n",
              " 'trainable': True,\n",
              " 'vocabulary_size': 64841}"
            ]
          },
          "metadata": {
            "tags": []
          },
          "execution_count": 30
        }
      ]
    },
    {
      "cell_type": "code",
      "metadata": {
        "id": "niT2K9E51_m_"
      },
      "source": [
        "from tensorflow.keras import layers\n",
        "#Creating an embedding layer for our text token vectors\n",
        "OUTPUT_DIM = 64 # Derived from the research paper\n",
        "\n",
        "embedder = layers.Embedding(input_dim = MAX_TOKENS,\n",
        "                            output_dim = OUTPUT_DIM,\n",
        "                            input_length = MAX_LENGTH,\n",
        "                            mask_zero = True)"
      ],
      "execution_count": null,
      "outputs": []
    },
    {
      "cell_type": "code",
      "metadata": {
        "id": "FhYR48QID2fi"
      },
      "source": [
        "# Creating tf.data datasets for each of our dataframes.\n",
        "train_dataset = tf.data.Dataset.from_tensor_slices((train_sentences, train_labels_one_hot))\n",
        "validation_dataset = tf.data.Dataset.from_tensor_slices((validation_sentences, validation_labels_one_hot))\n",
        "test_dataset = tf.data.Dataset.from_tensor_slices((test_sentences, test_labels_one_hot))"
      ],
      "execution_count": null,
      "outputs": []
    },
    {
      "cell_type": "code",
      "metadata": {
        "id": "GfP4wO21EjUc"
      },
      "source": [
        "# Batching and prefetching the datasets\n",
        "train_dataset = train_dataset.batch(32).prefetch(tf.data.AUTOTUNE)\n",
        "validation_dataset = validation_dataset.batch(32).prefetch(tf.data.AUTOTUNE)\n",
        "test_dataset = test_dataset.batch(32).prefetch(tf.data.AUTOTUNE)"
      ],
      "execution_count": null,
      "outputs": []
    },
    {
      "cell_type": "code",
      "metadata": {
        "id": "6aACb5z36zzr"
      },
      "source": [
        "# Outlining the CONV1D model\n",
        "FILTERS_NUM = 32\n",
        "KERNEL_SIZE = 3\n",
        "\n",
        "inputs = layers.Input(shape = (1, ), dtype = tf.string)\n",
        "x = text_vectorizer(inputs)\n",
        "x = embedder(x)\n",
        "x = layers.Conv1D(filters = FILTERS_NUM,\n",
        "                  kernel_size = KERNEL_SIZE,\n",
        "                  padding = 'same',\n",
        "                  activation = 'relu')(x)\n",
        "x = layers.GlobalAveragePooling1D()(x)\n",
        "x = layers.Dense(len(np.unique(train_labels)))(x)\n",
        "outputs = layers.Activation(activation = 'softmax')(x)"
      ],
      "execution_count": null,
      "outputs": []
    },
    {
      "cell_type": "code",
      "metadata": {
        "colab": {
          "base_uri": "https://localhost:8080/"
        },
        "id": "9_pl4gr476dI",
        "outputId": "5ae9aecb-d09d-4e75-837a-9f30dcb99ca0"
      },
      "source": [
        "# Creating and compiling the model\n",
        "model_1 = tf.keras.Model(inputs = inputs, outputs = outputs)\n",
        "model_1.compile(optimizer = tf.keras.optimizers.Adam(),\n",
        "                loss = tf.keras.losses.CategoricalCrossentropy(),\n",
        "                metrics = ['accuracy'])\n",
        "model_1.summary()"
      ],
      "execution_count": null,
      "outputs": [
        {
          "output_type": "stream",
          "text": [
            "Model: \"model\"\n",
            "_________________________________________________________________\n",
            "Layer (type)                 Output Shape              Param #   \n",
            "=================================================================\n",
            "input_1 (InputLayer)         [(None, 1)]               0         \n",
            "_________________________________________________________________\n",
            "text_vectorization (TextVect (None, 55)                0         \n",
            "_________________________________________________________________\n",
            "embedding (Embedding)        (None, 55, 64)            4352000   \n",
            "_________________________________________________________________\n",
            "conv1d (Conv1D)              (None, 55, 32)            6176      \n",
            "_________________________________________________________________\n",
            "global_average_pooling1d (Gl (None, 32)                0         \n",
            "_________________________________________________________________\n",
            "dense (Dense)                (None, 5)                 165       \n",
            "_________________________________________________________________\n",
            "activation (Activation)      (None, 5)                 0         \n",
            "=================================================================\n",
            "Total params: 4,358,341\n",
            "Trainable params: 4,358,341\n",
            "Non-trainable params: 0\n",
            "_________________________________________________________________\n"
          ],
          "name": "stdout"
        }
      ]
    },
    {
      "cell_type": "code",
      "metadata": {
        "colab": {
          "base_uri": "https://localhost:8080/"
        },
        "id": "VykYHCui8LUx",
        "outputId": "3696d9fc-2e63-4f32-bc90-dee68a566c25"
      },
      "source": [
        "# Creating the TensorBoard and earlystopping callbacks for the model training\n",
        "tensorboard_cb = tf.keras.callbacks.TensorBoard(log_dir = '/content/TensorBoard/model_1_conv1D_tokens')\n",
        "early_stopper = tf.keras.callbacks.EarlyStopping(patience = 1)\n",
        "\n",
        "# Fitting the model\n",
        "history_1 = model_1.fit(train_dataset,\n",
        "                        epochs = 10,\n",
        "                        verbose = 1,\n",
        "                        callbacks = [early_stopper, tensorboard_cb],\n",
        "                        validation_data = validation_dataset)"
      ],
      "execution_count": null,
      "outputs": [
        {
          "output_type": "stream",
          "text": [
            "Epoch 1/10\n",
            "5627/5627 [==============================] - 243s 41ms/step - loss: 0.6496 - accuracy: 0.7612 - val_loss: 0.5505 - val_accuracy: 0.8057\n",
            "Epoch 2/10\n",
            "5627/5627 [==============================] - 226s 40ms/step - loss: 0.4863 - accuracy: 0.8291 - val_loss: 0.5434 - val_accuracy: 0.8084\n",
            "Epoch 3/10\n",
            "5627/5627 [==============================] - 225s 40ms/step - loss: 0.4219 - accuracy: 0.8544 - val_loss: 0.5641 - val_accuracy: 0.8052\n"
          ],
          "name": "stdout"
        }
      ]
    },
    {
      "cell_type": "code",
      "metadata": {
        "colab": {
          "base_uri": "https://localhost:8080/"
        },
        "id": "yYc4d4v785sq",
        "outputId": "f594e012-3d0c-4511-e2f5-cabea3960dcf"
      },
      "source": [
        "model_1.evaluate(test_dataset)"
      ],
      "execution_count": null,
      "outputs": [
        {
          "output_type": "stream",
          "text": [
            "942/942 [==============================] - 3s 3ms/step - loss: 0.5822 - accuracy: 0.7975\n"
          ],
          "name": "stdout"
        },
        {
          "output_type": "execute_result",
          "data": {
            "text/plain": [
              "[0.5822483897209167, 0.7975443601608276]"
            ]
          },
          "metadata": {
            "tags": []
          },
          "execution_count": 37
        }
      ]
    },
    {
      "cell_type": "code",
      "metadata": {
        "colab": {
          "base_uri": "https://localhost:8080/"
        },
        "id": "aIsRGn0BFsaj",
        "outputId": "a36dee2d-6b4f-45d5-f2de-457ba5d49a91"
      },
      "source": [
        "# Model 1 metrics\n",
        "model_1_probs = model_1.predict(test_sentences)\n",
        "model_1_preds = tf.argmax(model_1_probs,axis = 1)\n",
        "model_1_results = model_evaluation(test_labels_int.reshape(-1, 1), model_1_preds)\n",
        "model_1_results"
      ],
      "execution_count": null,
      "outputs": [
        {
          "output_type": "execute_result",
          "data": {
            "text/plain": [
              "{'Accuracy': 0.7975443836071013,\n",
              " 'F1': 0.7948461960595375,\n",
              " 'Precision': 0.7933171401322513,\n",
              " 'Recall': 0.7975443836071013}"
            ]
          },
          "metadata": {
            "tags": []
          },
          "execution_count": 38
        }
      ]
    },
    {
      "cell_type": "markdown",
      "metadata": {
        "id": "HksKKdEyI0Yw"
      },
      "source": [
        "## Model 2: Feature Extractor\n",
        "The feature extraction of model 2 will be taking advantage of the glove vectorizer developed by Stanford University.\n",
        "All the code used to instantiate the glove vectorizer is derived from the university's research paper."
      ]
    },
    {
      "cell_type": "code",
      "metadata": {
        "id": "2kt4c7JiJvby"
      },
      "source": [
        "word_index = dict(zip(text_vectorizer.get_vocabulary(), range(len(text_vectorizer.get_vocabulary()))))"
      ],
      "execution_count": null,
      "outputs": []
    },
    {
      "cell_type": "code",
      "metadata": {
        "colab": {
          "base_uri": "https://localhost:8080/"
        },
        "id": "M68xJBNEKvdk",
        "outputId": "944373c1-c02d-4a9b-f278-427ea08f6eba"
      },
      "source": [
        "word_index"
      ],
      "execution_count": null,
      "outputs": [
        {
          "output_type": "execute_result",
          "data": {
            "text/plain": [
              "{'': 0,\n",
              " '[UNK]': 1,\n",
              " 'the': 2,\n",
              " 'and': 3,\n",
              " 'of': 4,\n",
              " 'in': 5,\n",
              " 'to': 6,\n",
              " 'with': 7,\n",
              " 'a': 8,\n",
              " 'were': 9,\n",
              " 'was': 10,\n",
              " 'for': 11,\n",
              " 'patients': 12,\n",
              " 'group': 13,\n",
              " 'p': 14,\n",
              " 'at': 15,\n",
              " 'or': 16,\n",
              " 'study': 17,\n",
              " 'on': 18,\n",
              " 'treatment': 19,\n",
              " 'is': 20,\n",
              " 'after': 21,\n",
              " 'by': 22,\n",
              " 'this': 23,\n",
              " 'groups': 24,\n",
              " 'as': 25,\n",
              " 'an': 26,\n",
              " 'from': 27,\n",
              " 'that': 28,\n",
              " 'randomized': 29,\n",
              " 'between': 30,\n",
              " 'not': 31,\n",
              " 'trial': 32,\n",
              " 'no': 33,\n",
              " 'compared': 34,\n",
              " 'control': 35,\n",
              " 'be': 36,\n",
              " 'significant': 37,\n",
              " 'intervention': 38,\n",
              " 'significantly': 39,\n",
              " 'n': 40,\n",
              " 'months': 41,\n",
              " 'than': 42,\n",
              " 'we': 43,\n",
              " 'vs': 44,\n",
              " 'rsb': 45,\n",
              " 'lsb': 46,\n",
              " 'clinical': 47,\n",
              " 'placebo': 48,\n",
              " 'baseline': 49,\n",
              " 'ci': 50,\n",
              " 'two': 51,\n",
              " 'during': 52,\n",
              " 'weeks': 53,\n",
              " 'both': 54,\n",
              " 'had': 55,\n",
              " 'primary': 56,\n",
              " 'mean': 57,\n",
              " 'are': 58,\n",
              " 'using': 59,\n",
              " 'participants': 60,\n",
              " 'there': 61,\n",
              " 'all': 62,\n",
              " 'time': 63,\n",
              " 'years': 64,\n",
              " 'pain': 65,\n",
              " 'therapy': 66,\n",
              " 'who': 67,\n",
              " 'mg': 68,\n",
              " 'more': 69,\n",
              " 'effect': 70,\n",
              " 'effects': 71,\n",
              " 'but': 72,\n",
              " 'risk': 73,\n",
              " 'difference': 74,\n",
              " 'outcomes': 75,\n",
              " 'total': 76,\n",
              " 'care': 77,\n",
              " 'rate': 78,\n",
              " 'efficacy': 79,\n",
              " 'received': 80,\n",
              " 'associated': 81,\n",
              " 'higher': 82,\n",
              " 'respectively': 83,\n",
              " 'days': 84,\n",
              " 'analysis': 85,\n",
              " 'outcome': 86,\n",
              " 'use': 87,\n",
              " 'one': 88,\n",
              " 'week': 89,\n",
              " 'women': 90,\n",
              " 'may': 91,\n",
              " 'randomly': 92,\n",
              " 'levels': 93,\n",
              " 'followup': 94,\n",
              " 'will': 95,\n",
              " 'increased': 96,\n",
              " 'health': 97,\n",
              " 'used': 98,\n",
              " 'have': 99,\n",
              " 'data': 100,\n",
              " 'score': 101,\n",
              " 'differences': 102,\n",
              " 'age': 103,\n",
              " 'subjects': 104,\n",
              " 'lower': 105,\n",
              " 'controlled': 106,\n",
              " 'blood': 107,\n",
              " 'day': 108,\n",
              " 'children': 109,\n",
              " 'versus': 110,\n",
              " 'these': 111,\n",
              " 'did': 112,\n",
              " 'assessed': 113,\n",
              " 'disease': 114,\n",
              " 'surgery': 115,\n",
              " 'among': 116,\n",
              " 'results': 117,\n",
              " 'adverse': 118,\n",
              " 'scores': 119,\n",
              " 'their': 120,\n",
              " 'included': 121,\n",
              " 'each': 122,\n",
              " 'assigned': 123,\n",
              " 'events': 124,\n",
              " 'those': 125,\n",
              " 'which': 126,\n",
              " 'patient': 127,\n",
              " 'test': 128,\n",
              " 'before': 129,\n",
              " 's': 130,\n",
              " 'dose': 131,\n",
              " 'either': 132,\n",
              " 'change': 133,\n",
              " 'three': 134,\n",
              " 'cancer': 135,\n",
              " 'safety': 136,\n",
              " 'effective': 137,\n",
              " 'also': 138,\n",
              " 'has': 139,\n",
              " 'however': 140,\n",
              " 'quality': 141,\n",
              " 'response': 142,\n",
              " 'into': 143,\n",
              " 'symptoms': 144,\n",
              " 'over': 145,\n",
              " 'changes': 146,\n",
              " 'showed': 147,\n",
              " 'observed': 148,\n",
              " 'function': 149,\n",
              " 'similar': 150,\n",
              " 'secondary': 151,\n",
              " 'first': 152,\n",
              " 'performed': 153,\n",
              " 'number': 154,\n",
              " 'training': 155,\n",
              " 'measured': 156,\n",
              " 'year': 157,\n",
              " 'scale': 158,\n",
              " 'without': 159,\n",
              " 'per': 160,\n",
              " 'daily': 161,\n",
              " 'rates': 162,\n",
              " 'postoperative': 163,\n",
              " 'evaluate': 164,\n",
              " 'standard': 165,\n",
              " 'ratio': 166,\n",
              " 'been': 167,\n",
              " 'other': 168,\n",
              " 'reduction': 169,\n",
              " 'improved': 170,\n",
              " 'can': 171,\n",
              " 'treated': 172,\n",
              " 'period': 173,\n",
              " 'weight': 174,\n",
              " 'receive': 175,\n",
              " 'nct': 176,\n",
              " 'exercise': 177,\n",
              " 'month': 178,\n",
              " 'increase': 179,\n",
              " 'whether': 180,\n",
              " 'high': 181,\n",
              " 'greater': 182,\n",
              " 'when': 183,\n",
              " 'evaluated': 184,\n",
              " 'it': 185,\n",
              " 'b': 186,\n",
              " 'd': 187,\n",
              " 'overall': 188,\n",
              " 'physical': 189,\n",
              " 'activity': 190,\n",
              " 'reduced': 191,\n",
              " 'only': 192,\n",
              " 'median': 193,\n",
              " 'improvement': 194,\n",
              " 'life': 195,\n",
              " 'h': 196,\n",
              " 'different': 197,\n",
              " 'conducted': 198,\n",
              " 'end': 199,\n",
              " 'pressure': 200,\n",
              " 'survival': 201,\n",
              " 'studies': 202,\n",
              " 'index': 203,\n",
              " 'level': 204,\n",
              " 'reported': 205,\n",
              " 't': 206,\n",
              " 'arm': 207,\n",
              " 'found': 208,\n",
              " 'phase': 209,\n",
              " 'randomised': 210,\n",
              " 'less': 211,\n",
              " 'decreased': 212,\n",
              " 'measures': 213,\n",
              " 'incidence': 214,\n",
              " 'most': 215,\n",
              " 'assess': 216,\n",
              " 'oral': 217,\n",
              " 'improve': 218,\n",
              " 'within': 219,\n",
              " 'low': 220,\n",
              " 'well': 221,\n",
              " 'interval': 222,\n",
              " 'diabetes': 223,\n",
              " 'early': 224,\n",
              " 'serum': 225,\n",
              " 'compare': 226,\n",
              " 'hours': 227,\n",
              " 'determine': 228,\n",
              " 'acute': 229,\n",
              " 'enrolled': 230,\n",
              " 'plus': 231,\n",
              " 'statistically': 232,\n",
              " 'trials': 233,\n",
              " 'mm': 234,\n",
              " 'confidence': 235,\n",
              " 'doubleblind': 236,\n",
              " 'hospital': 237,\n",
              " 'g': 238,\n",
              " 'body': 239,\n",
              " 'following': 240,\n",
              " 'prospective': 241,\n",
              " 'min': 242,\n",
              " 'c': 243,\n",
              " 'chronic': 244,\n",
              " 'receiving': 245,\n",
              " 'our': 246,\n",
              " 'healthy': 247,\n",
              " 'type': 248,\n",
              " 'plasma': 249,\n",
              " 'assessment': 250,\n",
              " 'including': 251,\n",
              " 'better': 252,\n",
              " 'completed': 253,\n",
              " 'factors': 254,\n",
              " 'depression': 255,\n",
              " 'program': 256,\n",
              " 'effectiveness': 257,\n",
              " 'while': 258,\n",
              " 'mortality': 259,\n",
              " 'heart': 260,\n",
              " 'based': 261,\n",
              " 'any': 262,\n",
              " 'cases': 263,\n",
              " 'loss': 264,\n",
              " 'interventions': 265,\n",
              " 'adults': 266,\n",
              " 'aim': 267,\n",
              " 'glucose': 268,\n",
              " 'combination': 269,\n",
              " 'reduce': 270,\n",
              " 'alone': 271,\n",
              " 'status': 272,\n",
              " 'hr': 273,\n",
              " 'medical': 274,\n",
              " 'clinicaltrialsgov': 275,\n",
              " 'stroke': 276,\n",
              " 'insulin': 277,\n",
              " 'population': 278,\n",
              " 'support': 279,\n",
              " 'positive': 280,\n",
              " 'could': 281,\n",
              " 'duration': 282,\n",
              " 'range': 283,\n",
              " 'followed': 284,\n",
              " 'research': 285,\n",
              " 'combined': 286,\n",
              " 'management': 287,\n",
              " 'administration': 288,\n",
              " 'severe': 289,\n",
              " 'visual': 290,\n",
              " 'analyses': 291,\n",
              " 'failure': 292,\n",
              " 'performance': 293,\n",
              " 'point': 294,\n",
              " 'undergoing': 295,\n",
              " 'complications': 296,\n",
              " 'four': 297,\n",
              " 'further': 298,\n",
              " 'evidence': 299,\n",
              " 'drug': 300,\n",
              " 'cognitive': 301,\n",
              " 'points': 302,\n",
              " 'up': 303,\n",
              " 'functional': 304,\n",
              " 'impact': 305,\n",
              " 'surgical': 306,\n",
              " 'aged': 307,\n",
              " 'its': 308,\n",
              " 'men': 309,\n",
              " 'findings': 310,\n",
              " 'although': 311,\n",
              " 'single': 312,\n",
              " 'through': 313,\n",
              " 'model': 314,\n",
              " 'parameters': 315,\n",
              " 'they': 316,\n",
              " 'common': 317,\n",
              " 'decrease': 318,\n",
              " 'new': 319,\n",
              " 'medication': 320,\n",
              " 'doses': 321,\n",
              " 'least': 322,\n",
              " 'cardiovascular': 323,\n",
              " 'if': 324,\n",
              " 'questionnaire': 325,\n",
              " 'volume': 326,\n",
              " 'active': 327,\n",
              " 'related': 328,\n",
              " 'placebocontrolled': 329,\n",
              " 'given': 330,\n",
              " 'investigate': 331,\n",
              " 'severity': 332,\n",
              " 'addition': 333,\n",
              " 'values': 334,\n",
              " 'longterm': 335,\n",
              " 'administered': 336,\n",
              " 'infants': 337,\n",
              " 'about': 338,\n",
              " 'death': 339,\n",
              " 'minutes': 340,\n",
              " 'concentrations': 341,\n",
              " 'cardiac': 342,\n",
              " 'potential': 343,\n",
              " 'occurred': 344,\n",
              " 'such': 345,\n",
              " 'coronary': 346,\n",
              " 'major': 347,\n",
              " 'individuals': 348,\n",
              " 'endpoint': 349,\n",
              " 'older': 350,\n",
              " 'general': 351,\n",
              " 'underwent': 352,\n",
              " 'under': 353,\n",
              " 'sleep': 354,\n",
              " 'system': 355,\n",
              " 'six': 356,\n",
              " 'sd': 357,\n",
              " 'm': 358,\n",
              " 'current': 359,\n",
              " 'infection': 360,\n",
              " 'times': 361,\n",
              " 'moderate': 362,\n",
              " 'method': 363,\n",
              " 'ml': 364,\n",
              " 'additional': 365,\n",
              " 'conventional': 366,\n",
              " 'objective': 367,\n",
              " 'muscle': 368,\n",
              " 'present': 369,\n",
              " 'usual': 370,\n",
              " 'demonstrated': 371,\n",
              " 'design': 372,\n",
              " 'acupuncture': 373,\n",
              " 'according': 374,\n",
              " 'size': 375,\n",
              " 'diet': 376,\n",
              " 'treatments': 377,\n",
              " 'ii': 378,\n",
              " 'allocated': 379,\n",
              " 'information': 380,\n",
              " 'evaluation': 381,\n",
              " 'recorded': 382,\n",
              " 'relative': 383,\n",
              " 'analyzed': 384,\n",
              " 'mass': 385,\n",
              " 'acid': 386,\n",
              " 'screening': 387,\n",
              " 'regression': 388,\n",
              " 'i': 389,\n",
              " 'injection': 390,\n",
              " 'criteria': 391,\n",
              " 'syndrome': 392,\n",
              " 'recovery': 393,\n",
              " 'registered': 394,\n",
              " 'characteristics': 395,\n",
              " 'protein': 396,\n",
              " 'measure': 397,\n",
              " 'benefit': 398,\n",
              " 'intake': 399,\n",
              " 'frequency': 400,\n",
              " 'stress': 401,\n",
              " 'protocol': 402,\n",
              " 'prevention': 403,\n",
              " 'recruited': 404,\n",
              " 'average': 405,\n",
              " 'should': 406,\n",
              " 'procedure': 407,\n",
              " 'improvements': 408,\n",
              " 'experimental': 409,\n",
              " 'bone': 410,\n",
              " 'adjusted': 411,\n",
              " 'vitamin': 412,\n",
              " 'breast': 413,\n",
              " 'provide': 414,\n",
              " 'chemotherapy': 415,\n",
              " 'sessions': 416,\n",
              " 'normal': 417,\n",
              " 'every': 418,\n",
              " 'consumption': 419,\n",
              " 'suggest': 420,\n",
              " 'comparison': 421,\n",
              " 'concentration': 422,\n",
              " 'association': 423,\n",
              " 'condition': 424,\n",
              " 'smoking': 425,\n",
              " 'hazard': 426,\n",
              " 'anxiety': 427,\n",
              " 'satisfaction': 428,\n",
              " 'adherence': 429,\n",
              " 'important': 430,\n",
              " 'same': 431,\n",
              " 'factor': 432,\n",
              " 'education': 433,\n",
              " 'due': 434,\n",
              " 'anesthesia': 435,\n",
              " 'whereas': 436,\n",
              " 'examined': 437,\n",
              " 'therapeutic': 438,\n",
              " 'once': 439,\n",
              " 'needed': 440,\n",
              " 'sample': 441,\n",
              " 'responses': 442,\n",
              " 'proportion': 443,\n",
              " 'collected': 444,\n",
              " 'grade': 445,\n",
              " 'investigated': 446,\n",
              " 'aimed': 447,\n",
              " 'symptom': 448,\n",
              " 'area': 449,\n",
              " 'practice': 450,\n",
              " 'reducing': 451,\n",
              " 'prior': 452,\n",
              " 'approach': 453,\n",
              " 'achieved': 454,\n",
              " 'exposure': 455,\n",
              " 'bmi': 456,\n",
              " 'social': 457,\n",
              " 'conditions': 458,\n",
              " 'controls': 459,\n",
              " 'il': 460,\n",
              " 'alcohol': 461,\n",
              " 'statistical': 462,\n",
              " 'clinically': 463,\n",
              " 'supplementation': 464,\n",
              " 'stimulation': 465,\n",
              " 'multiple': 466,\n",
              " 'percentage': 467,\n",
              " 'previous': 468,\n",
              " 'negative': 469,\n",
              " 'cohort': 470,\n",
              " 'divided': 471,\n",
              " 'defined': 472,\n",
              " 'initial': 473,\n",
              " 'renal': 474,\n",
              " 'technique': 475,\n",
              " 'models': 476,\n",
              " 'myocardial': 477,\n",
              " 'cd': 478,\n",
              " 'delivery': 479,\n",
              " 'second': 480,\n",
              " 'developed': 481,\n",
              " 'required': 482,\n",
              " 'need': 483,\n",
              " 'crossover': 484,\n",
              " 'provided': 485,\n",
              " 'mental': 486,\n",
              " 'five': 487,\n",
              " 'complete': 488,\n",
              " 'lung': 489,\n",
              " 'arms': 490,\n",
              " 'r': 491,\n",
              " 'target': 492,\n",
              " 'side': 493,\n",
              " 'knowledge': 494,\n",
              " 'would': 495,\n",
              " 'superior': 496,\n",
              " 'vaccine': 497,\n",
              " 'variables': 498,\n",
              " 'progression': 499,\n",
              " 'hiv': 500,\n",
              " 'development': 501,\n",
              " 'multicenter': 502,\n",
              " 'injury': 503,\n",
              " 'resistance': 504,\n",
              " 'determined': 505,\n",
              " 'bleeding': 506,\n",
              " 'cell': 507,\n",
              " 'out': 508,\n",
              " 'sensitivity': 509,\n",
              " 'kg': 510,\n",
              " 'intravenous': 511,\n",
              " 'shown': 512,\n",
              " 'samples': 513,\n",
              " 'safe': 514,\n",
              " 'students': 515,\n",
              " 'then': 516,\n",
              " 'knee': 517,\n",
              " 'eligible': 518,\n",
              " 'people': 519,\n",
              " 'cm': 520,\n",
              " 'small': 521,\n",
              " 'vas': 522,\n",
              " 'length': 523,\n",
              " 'main': 524,\n",
              " 'infusion': 525,\n",
              " 'identified': 526,\n",
              " 'obtained': 527,\n",
              " 'serious': 528,\n",
              " 'value': 529,\n",
              " 'rehabilitation': 530,\n",
              " 'stage': 531,\n",
              " 'likely': 532,\n",
              " 'mild': 533,\n",
              " 'examine': 534,\n",
              " 'considered': 535,\n",
              " 'diagnosis': 536,\n",
              " 'across': 537,\n",
              " 'skin': 538,\n",
              " 'regarding': 539,\n",
              " 'pregnancy': 540,\n",
              " 'strength': 541,\n",
              " 'because': 542,\n",
              " 'artery': 543,\n",
              " 'differ': 544,\n",
              " 'large': 545,\n",
              " 'role': 546,\n",
              " 'hundred': 547,\n",
              " 'home': 548,\n",
              " 'tests': 549,\n",
              " 'comparable': 550,\n",
              " 'applied': 551,\n",
              " 'recurrence': 552,\n",
              " 'increases': 553,\n",
              " 'iii': 554,\n",
              " 'twice': 555,\n",
              " 'independent': 556,\n",
              " 'improving': 557,\n",
              " 'block': 558,\n",
              " 'available': 559,\n",
              " 'designed': 560,\n",
              " 'disorder': 561,\n",
              " 'pulmonary': 562,\n",
              " 'odds': 563,\n",
              " 'male': 564,\n",
              " 'individual': 565,\n",
              " 'dietary': 566,\n",
              " 'tested': 567,\n",
              " 'resulted': 568,\n",
              " 'asthma': 569,\n",
              " 'openlabel': 570,\n",
              " 'being': 571,\n",
              " 'eyes': 572,\n",
              " 'cholesterol': 573,\n",
              " 'testing': 574,\n",
              " 'increasing': 575,\n",
              " 'regimen': 576,\n",
              " 'costs': 577,\n",
              " 'methods': 578,\n",
              " 'intensity': 579,\n",
              " 'tolerated': 580,\n",
              " 'experienced': 581,\n",
              " 'comparing': 582,\n",
              " 'longer': 583,\n",
              " 'some': 584,\n",
              " 'local': 585,\n",
              " 'cells': 586,\n",
              " 'blinded': 587,\n",
              " 'advanced': 588,\n",
              " 'respiratory': 589,\n",
              " 'fat': 590,\n",
              " 'measurements': 591,\n",
              " 'prostate': 592,\n",
              " 'benefits': 593,\n",
              " 'identifier': 594,\n",
              " 'randomization': 595,\n",
              " 'profile': 596,\n",
              " 'estimated': 597,\n",
              " 'via': 598,\n",
              " 'modified': 599,\n",
              " 'motor': 600,\n",
              " 'left': 601,\n",
              " 'adult': 602,\n",
              " 'stay': 603,\n",
              " 'liver': 604,\n",
              " 'interaction': 605,\n",
              " 'strategy': 606,\n",
              " 'monitoring': 607,\n",
              " 'cost': 608,\n",
              " 'qol': 609,\n",
              " 'continuous': 610,\n",
              " 'success': 611,\n",
              " 'disability': 612,\n",
              " 'community': 613,\n",
              " 'terms': 614,\n",
              " 'hbac': 615,\n",
              " 'urinary': 616,\n",
              " 'oxygen': 617,\n",
              " 'mgkg': 618,\n",
              " 'female': 619,\n",
              " 'visits': 620,\n",
              " 'growth': 621,\n",
              " 'saline': 622,\n",
              " 'brain': 623,\n",
              " 'post': 624,\n",
              " 'drugs': 625,\n",
              " 'reductions': 626,\n",
              " 'maintenance': 627,\n",
              " 'specific': 628,\n",
              " 'hour': 629,\n",
              " 'selected': 630,\n",
              " 'human': 631,\n",
              " 'weekly': 632,\n",
              " 'routine': 633,\n",
              " 'until': 634,\n",
              " 'maximum': 635,\n",
              " 'inflammation': 636,\n",
              " 'include': 637,\n",
              " 'lesions': 638,\n",
              " 'relationship': 639,\n",
              " 'might': 640,\n",
              " 'infarction': 641,\n",
              " 'intensive': 642,\n",
              " 'despite': 643,\n",
              " 'against': 644,\n",
              " 'endpoints': 645,\n",
              " 'influence': 646,\n",
              " 'global': 647,\n",
              " 'fatigue': 648,\n",
              " 'depressive': 649,\n",
              " 'prevalence': 650,\n",
              " 'iv': 651,\n",
              " 'future': 652,\n",
              " 'os': 653,\n",
              " 'short': 654,\n",
              " 'open': 655,\n",
              " 'course': 656,\n",
              " 'assessments': 657,\n",
              " 'sites': 658,\n",
              " 'hypertension': 659,\n",
              " 'previously': 660,\n",
              " 'food': 661,\n",
              " 'fasting': 662,\n",
              " 'ct': 663,\n",
              " 'bp': 664,\n",
              " 'limited': 665,\n",
              " 'larger': 666,\n",
              " 'strategies': 667,\n",
              " 'l': 668,\n",
              " 'tissue': 669,\n",
              " 'systemic': 670,\n",
              " 'metabolic': 671,\n",
              " 'eye': 672,\n",
              " 'analgesia': 673,\n",
              " 'site': 674,\n",
              " 'event': 675,\n",
              " 'setting': 676,\n",
              " 'parents': 677,\n",
              " 'arterial': 678,\n",
              " 'application': 679,\n",
              " 'systolic': 680,\n",
              " 'central': 681,\n",
              " 'known': 682,\n",
              " 'seen': 683,\n",
              " 'behavior': 684,\n",
              " 'studied': 685,\n",
              " 'inflammatory': 686,\n",
              " 'adolescents': 687,\n",
              " 'imaging': 688,\n",
              " 'pilot': 689,\n",
              " 'peak': 690,\n",
              " 'session': 691,\n",
              " 'result': 692,\n",
              " 'sex': 693,\n",
              " 'mmhg': 694,\n",
              " 'purpose': 695,\n",
              " 'discharge': 696,\n",
              " 'work': 697,\n",
              " 'th': 698,\n",
              " 'rating': 699,\n",
              " 'obese': 700,\n",
              " 'operation': 701,\n",
              " 'feasibility': 702,\n",
              " 'improves': 703,\n",
              " 'fewer': 704,\n",
              " 'procedures': 705,\n",
              " 'behavioral': 706,\n",
              " 'preoperative': 707,\n",
              " 'national': 708,\n",
              " 'therefore': 709,\n",
              " 'laser': 710,\n",
              " 'does': 711,\n",
              " 'diagnostic': 712,\n",
              " 'capacity': 713,\n",
              " 'expression': 714,\n",
              " 'identify': 715,\n",
              " 'poor': 716,\n",
              " 'kidney': 717,\n",
              " 'dysfunction': 718,\n",
              " 'skills': 719,\n",
              " 'detected': 720,\n",
              " 'postoperatively': 721,\n",
              " 'shorter': 722,\n",
              " 'laparoscopic': 723,\n",
              " 'tumor': 724,\n",
              " 'device': 725,\n",
              " 'history': 726,\n",
              " 'andor': 727,\n",
              " 'young': 728,\n",
              " 'stable': 729,\n",
              " 'recommended': 730,\n",
              " 'noninferiority': 731,\n",
              " 'part': 732,\n",
              " 'treat': 733,\n",
              " 'child': 734,\n",
              " 'university': 735,\n",
              " 'confirmed': 736,\n",
              " 'wound': 737,\n",
              " 'inhibitor': 738,\n",
              " 'composite': 739,\n",
              " 'ventilation': 740,\n",
              " 'novel': 741,\n",
              " 'affect': 742,\n",
              " 'abdominal': 743,\n",
              " 'mgday': 744,\n",
              " 'good': 745,\n",
              " 'receptor': 746,\n",
              " 'markers': 747,\n",
              " 'beneficial': 748,\n",
              " 'visit': 749,\n",
              " 'nasal': 750,\n",
              " 'disorders': 751,\n",
              " 'correlated': 752,\n",
              " 'consecutive': 753,\n",
              " 'implementation': 754,\n",
              " 'programme': 755,\n",
              " 'energy': 756,\n",
              " 'calculated': 757,\n",
              " 'vascular': 758,\n",
              " 'immediately': 759,\n",
              " 'eight': 760,\n",
              " 'ischemic': 761,\n",
              " 'copd': 762,\n",
              " 'upper': 763,\n",
              " 'sodium': 764,\n",
              " 'flow': 765,\n",
              " 'examination': 766,\n",
              " 'diagnosed': 767,\n",
              " 'center': 768,\n",
              " 'f': 769,\n",
              " 'birth': 770,\n",
              " 'volunteers': 771,\n",
              " 'mgdl': 772,\n",
              " 'ventricular': 773,\n",
              " 'linear': 774,\n",
              " 'alternative': 775,\n",
              " 'possible': 776,\n",
              " 'infections': 777,\n",
              " 'induction': 778,\n",
              " 'onset': 779,\n",
              " 'contrast': 780,\n",
              " 'sustained': 781,\n",
              " 'revealed': 782,\n",
              " 'hf': 783,\n",
              " 'often': 784,\n",
              " 'delivered': 785,\n",
              " 'sham': 786,\n",
              " 'report': 787,\n",
              " 'stent': 788,\n",
              " 'correlation': 789,\n",
              " 'functioning': 790,\n",
              " 'family': 791,\n",
              " 'remained': 792,\n",
              " 'obesity': 793,\n",
              " 'experience': 794,\n",
              " 'percent': 795,\n",
              " 'fluid': 796,\n",
              " 'presence': 797,\n",
              " 'impairment': 798,\n",
              " 'selfreported': 799,\n",
              " 'intentiontotreat': 800,\n",
              " 'problems': 801,\n",
              " 'auc': 802,\n",
              " 'traditional': 803,\n",
              " 'affected': 804,\n",
              " 'ability': 805,\n",
              " 'psychological': 806,\n",
              " 'morbidity': 807,\n",
              " 'indicated': 808,\n",
              " 'sexual': 809,\n",
              " 'stratified': 810,\n",
              " 'isrctn': 811,\n",
              " 'show': 812,\n",
              " 'perceived': 813,\n",
              " 'resection': 814,\n",
              " 'walking': 815,\n",
              " 'final': 816,\n",
              " 'power': 817,\n",
              " 'repeated': 818,\n",
              " 'practices': 819,\n",
              " 'participated': 820,\n",
              " 'access': 821,\n",
              " 'subjective': 822,\n",
              " 'maternal': 823,\n",
              " 'techniques': 824,\n",
              " 'case': 825,\n",
              " 'calcium': 826,\n",
              " 'reduces': 827,\n",
              " 'provides': 828,\n",
              " 'process': 829,\n",
              " 'predicted': 830,\n",
              " 'injections': 831,\n",
              " 'mixed': 832,\n",
              " 'tolerability': 833,\n",
              " 'observation': 834,\n",
              " 'unit': 835,\n",
              " 'elderly': 836,\n",
              " 'remission': 837,\n",
              " 'peripheral': 838,\n",
              " 'lifestyle': 839,\n",
              " 'airway': 840,\n",
              " 'spinal': 841,\n",
              " 'intraoperative': 842,\n",
              " 'hospitalization': 843,\n",
              " 'activities': 844,\n",
              " 'successful': 845,\n",
              " 'school': 846,\n",
              " 'intubation': 847,\n",
              " 'international': 848,\n",
              " 'very': 849,\n",
              " 'us': 850,\n",
              " 'taken': 851,\n",
              " 'subsequent': 852,\n",
              " 'subgroup': 853,\n",
              " 'shortterm': 854,\n",
              " 'hg': 855,\n",
              " 'chinese': 856,\n",
              " 'recurrent': 857,\n",
              " 'induced': 858,\n",
              " 'clinic': 859,\n",
              " 'mmoll': 860,\n",
              " 'many': 861,\n",
              " 'highly': 862,\n",
              " 'maintained': 863,\n",
              " 'lipid': 864,\n",
              " 'pfs': 865,\n",
              " 'containing': 866,\n",
              " 'prevent': 867,\n",
              " 'pd': 868,\n",
              " 'later': 869,\n",
              " 'ie': 870,\n",
              " 'drinking': 871,\n",
              " 'smokers': 872,\n",
              " 'significance': 873,\n",
              " 'sedation': 874,\n",
              " 'atrial': 875,\n",
              " 'remains': 876,\n",
              " 'feedback': 877,\n",
              " 'parallel': 878,\n",
              " 'predictive': 879,\n",
              " 'laboratory': 880,\n",
              " 'several': 881,\n",
              " 'iqr': 882,\n",
              " 'cervical': 883,\n",
              " 'symptomatic': 884,\n",
              " 'survey': 885,\n",
              " 'metformin': 886,\n",
              " 'cause': 887,\n",
              " 'thickness': 888,\n",
              " 'rr': 889,\n",
              " 'intervals': 890,\n",
              " 'random': 891,\n",
              " 'nerve': 892,\n",
              " 'ms': 893,\n",
              " 'explore': 894,\n",
              " 'memory': 895,\n",
              " 'hand': 896,\n",
              " 'centers': 897,\n",
              " 'how': 898,\n",
              " 'few': 899,\n",
              " 'balance': 900,\n",
              " 'curve': 901,\n",
              " 'ultrasound': 902,\n",
              " 'aes': 903,\n",
              " 'educational': 904,\n",
              " 'consistent': 905,\n",
              " 'pci': 906,\n",
              " 'ngml': 907,\n",
              " 'suggests': 908,\n",
              " 'help': 909,\n",
              " 'af': 910,\n",
              " 'throughout': 911,\n",
              " 'gastric': 912,\n",
              " 'questionnaires': 913,\n",
              " 'propofol': 914,\n",
              " 'dosing': 915,\n",
              " 'continued': 916,\n",
              " 'state': 917,\n",
              " 'radiation': 918,\n",
              " 'last': 919,\n",
              " 'form': 920,\n",
              " 'emergency': 921,\n",
              " 'solution': 922,\n",
              " 'order': 923,\n",
              " 'achieve': 924,\n",
              " 'elevated': 925,\n",
              " 'cessation': 926,\n",
              " 'thus': 927,\n",
              " 'seven': 928,\n",
              " 'minute': 929,\n",
              " 'hypothesis': 930,\n",
              " 'optimal': 931,\n",
              " 'neck': 932,\n",
              " 'st': 933,\n",
              " 'randomisation': 934,\n",
              " 'measurement': 935,\n",
              " 'costeffectiveness': 936,\n",
              " 'units': 937,\n",
              " 'frequent': 938,\n",
              " 'task': 939,\n",
              " 'recruitment': 940,\n",
              " 'medicine': 941,\n",
              " 'them': 942,\n",
              " 'urine': 943,\n",
              " 'lead': 944,\n",
              " 'services': 945,\n",
              " 'best': 946,\n",
              " 'free': 947,\n",
              " 'ed': 948,\n",
              " 'e': 949,\n",
              " 'analgesic': 950,\n",
              " 'amount': 951,\n",
              " 'regimens': 952,\n",
              " 'learning': 953,\n",
              " 'rct': 954,\n",
              " 'online': 955,\n",
              " 'having': 956,\n",
              " 'trend': 957,\n",
              " 'repair': 958,\n",
              " 'logistic': 959,\n",
              " 'brief': 960,\n",
              " 'morphine': 961,\n",
              " 'hip': 962,\n",
              " 'relevant': 963,\n",
              " 'mechanical': 964,\n",
              " 'gain': 965,\n",
              " 'physicians': 966,\n",
              " 'treating': 967,\n",
              " 'recent': 968,\n",
              " 'nausea': 969,\n",
              " 'multicentre': 970,\n",
              " 'cerebral': 971,\n",
              " 'biomarkers': 972,\n",
              " 'analog': 973,\n",
              " 'standardized': 974,\n",
              " 'mri': 975,\n",
              " 'healing': 976,\n",
              " 'programs': 977,\n",
              " 'late': 978,\n",
              " 'guidelines': 979,\n",
              " 'bowel': 980,\n",
              " 'simple': 981,\n",
              " 'direct': 982,\n",
              " 'even': 983,\n",
              " 'degree': 984,\n",
              " 'vaccination': 985,\n",
              " 'rapid': 986,\n",
              " 'behaviors': 987,\n",
              " 'immune': 988,\n",
              " 'detection': 989,\n",
              " 'third': 990,\n",
              " 'noted': 991,\n",
              " 'associations': 992,\n",
              " 'little': 993,\n",
              " 'count': 994,\n",
              " 'signs': 995,\n",
              " 'met': 996,\n",
              " 'toxicity': 997,\n",
              " 'useful': 998,\n",
              " 'involved': 999,\n",
              " ...}"
            ]
          },
          "metadata": {
            "tags": []
          },
          "execution_count": 40
        }
      ]
    },
    {
      "cell_type": "code",
      "metadata": {
        "colab": {
          "base_uri": "https://localhost:8080/"
        },
        "id": "3x3jAkO4LIrB",
        "outputId": "e0b4cbbb-c591-4043-9484-356db48de6d4"
      },
      "source": [
        "!wget http://nlp.stanford.edu/data/glove.6B.zip\n",
        "!unzip -q glove.6B.zip"
      ],
      "execution_count": null,
      "outputs": [
        {
          "output_type": "stream",
          "text": [
            "--2021-05-31 00:39:57--  http://nlp.stanford.edu/data/glove.6B.zip\n",
            "Resolving nlp.stanford.edu (nlp.stanford.edu)... 171.64.67.140\n",
            "Connecting to nlp.stanford.edu (nlp.stanford.edu)|171.64.67.140|:80... connected.\n",
            "HTTP request sent, awaiting response... 302 Found\n",
            "Location: https://nlp.stanford.edu/data/glove.6B.zip [following]\n",
            "--2021-05-31 00:39:57--  https://nlp.stanford.edu/data/glove.6B.zip\n",
            "Connecting to nlp.stanford.edu (nlp.stanford.edu)|171.64.67.140|:443... connected.\n",
            "HTTP request sent, awaiting response... 301 Moved Permanently\n",
            "Location: http://downloads.cs.stanford.edu/nlp/data/glove.6B.zip [following]\n",
            "--2021-05-31 00:39:58--  http://downloads.cs.stanford.edu/nlp/data/glove.6B.zip\n",
            "Resolving downloads.cs.stanford.edu (downloads.cs.stanford.edu)... 171.64.64.22\n",
            "Connecting to downloads.cs.stanford.edu (downloads.cs.stanford.edu)|171.64.64.22|:80... connected.\n",
            "HTTP request sent, awaiting response... 200 OK\n",
            "Length: 862182613 (822M) [application/zip]\n",
            "Saving to: ‘glove.6B.zip’\n",
            "\n",
            "glove.6B.zip        100%[===================>] 822.24M  5.09MB/s    in 2m 42s  \n",
            "\n",
            "2021-05-31 00:42:40 (5.09 MB/s) - ‘glove.6B.zip’ saved [862182613/862182613]\n",
            "\n"
          ],
          "name": "stdout"
        }
      ]
    },
    {
      "cell_type": "code",
      "metadata": {
        "colab": {
          "base_uri": "https://localhost:8080/"
        },
        "id": "yEGTRLP5LU4z",
        "outputId": "c552b312-335d-49a0-de61-5f7c637284dc"
      },
      "source": [
        "import os\n",
        "path_to_glove_file = os.path.join(os.path.expanduser('~'), '/content/glove.6B.100d.txt')\n",
        "embeddings_index = {}\n",
        "with open(path_to_glove_file) as f:\n",
        "    for line in f:\n",
        "        word, coefs = line.split(maxsplit=1)\n",
        "        coefs = np.fromstring(coefs, \"f\", sep=\" \")\n",
        "        embeddings_index[word] = coefs\n",
        "\n",
        "print(\"Found %s word vectors.\" % len(embeddings_index))"
      ],
      "execution_count": null,
      "outputs": [
        {
          "output_type": "stream",
          "text": [
            "Found 400000 word vectors.\n"
          ],
          "name": "stdout"
        }
      ]
    },
    {
      "cell_type": "code",
      "metadata": {
        "colab": {
          "base_uri": "https://localhost:8080/"
        },
        "id": "qmcNWTaFMUnA",
        "outputId": "b0da7ccc-283b-4e31-814b-5423d5d21339"
      },
      "source": [
        "num_tokens = len(text_vectorizer.get_vocabulary()) + 2\n",
        "embedding_dim = 100\n",
        "hits = 0\n",
        "misses = 0\n",
        "\n",
        "# Prepare embedding matrix\n",
        "embedding_matrix = np.zeros((num_tokens, embedding_dim))\n",
        "for word, i in word_index.items():\n",
        "    embedding_vector = embeddings_index.get(word)\n",
        "    if embedding_vector is not None:\n",
        "        # Words not found in embedding index will be all-zeros.\n",
        "        # This includes the representation for \"padding\" and \"OOV\"\n",
        "        embedding_matrix[i] = embedding_vector\n",
        "        hits += 1\n",
        "    else:\n",
        "        misses += 1\n",
        "print(\"Converted %d words (%d misses)\" % (hits, misses))"
      ],
      "execution_count": null,
      "outputs": [
        {
          "output_type": "stream",
          "text": [
            "Converted 29730 words (35111 misses)\n"
          ],
          "name": "stdout"
        }
      ]
    },
    {
      "cell_type": "code",
      "metadata": {
        "id": "nsh7zpDrMqRe"
      },
      "source": [
        "# Creating the embedding layer from the glove vectorizer\n",
        "embedder_2 = layers.Embedding(input_dim = num_tokens,\n",
        "                              output_dim = embedding_dim,\n",
        "                              embeddings_initializer = tf.keras.initializers.Constant(embedding_matrix),\n",
        "                              trainable = False)"
      ],
      "execution_count": null,
      "outputs": []
    },
    {
      "cell_type": "code",
      "metadata": {
        "id": "0T3Rw7GFNT3i"
      },
      "source": [
        "# Outlining the model\n",
        "inputs = layers.Input(shape = (1, ), dtype = tf.string)\n",
        "tokens = text_vectorizer(inputs)\n",
        "embeddings = embedder_2(tokens)\n",
        "x = layers.Dense(128, activation = 'relu')(embeddings)\n",
        "x = layers.GlobalAveragePooling1D()(x)\n",
        "x = layers.Dense(5)(x)\n",
        "outputs = layers.Activation(activation = 'softmax')(x)"
      ],
      "execution_count": null,
      "outputs": []
    },
    {
      "cell_type": "code",
      "metadata": {
        "colab": {
          "base_uri": "https://localhost:8080/"
        },
        "id": "ZhXmoSKhNxXe",
        "outputId": "515a48c2-06d3-4e3c-a8bc-f60992bce630"
      },
      "source": [
        "# Creating and compiling the model\n",
        "model_2 = tf.keras.Model(inputs = inputs, outputs = outputs)\n",
        "model_2.compile(optimizer = tf.keras.optimizers.Adam(),\n",
        "                loss = tf.keras.losses.CategoricalCrossentropy(),\n",
        "                metrics = ['accuracy'])\n",
        "model_2.summary()"
      ],
      "execution_count": null,
      "outputs": [
        {
          "output_type": "stream",
          "text": [
            "Model: \"model_1\"\n",
            "_________________________________________________________________\n",
            "Layer (type)                 Output Shape              Param #   \n",
            "=================================================================\n",
            "input_2 (InputLayer)         [(None, 1)]               0         \n",
            "_________________________________________________________________\n",
            "text_vectorization (TextVect (None, 55)                0         \n",
            "_________________________________________________________________\n",
            "embedding_1 (Embedding)      (None, 55, 100)           6484300   \n",
            "_________________________________________________________________\n",
            "dense_1 (Dense)              (None, 55, 128)           12928     \n",
            "_________________________________________________________________\n",
            "global_average_pooling1d_1 ( (None, 128)               0         \n",
            "_________________________________________________________________\n",
            "dense_2 (Dense)              (None, 5)                 645       \n",
            "_________________________________________________________________\n",
            "activation_1 (Activation)    (None, 5)                 0         \n",
            "=================================================================\n",
            "Total params: 6,497,873\n",
            "Trainable params: 13,573\n",
            "Non-trainable params: 6,484,300\n",
            "_________________________________________________________________\n"
          ],
          "name": "stdout"
        }
      ]
    },
    {
      "cell_type": "code",
      "metadata": {
        "colab": {
          "base_uri": "https://localhost:8080/"
        },
        "id": "RoCFQwtKN-ji",
        "outputId": "6cb5edca-3031-482d-9137-abe72d381dbc"
      },
      "source": [
        "# Creating the TensorBoard callback for model 2\n",
        "tensorboard_cb = tf.keras.callbacks.TensorBoard(log_dir = '/content/TensorBoard/model_2_GloVe_feature_extractor')\n",
        "\n",
        "# Fitting the model\n",
        "history_2 = model_2.fit(train_dataset,\n",
        "            epochs = 10,\n",
        "            verbose = 1,\n",
        "            callbacks = [early_stopper, tensorboard_cb],\n",
        "            validation_data = validation_dataset)"
      ],
      "execution_count": null,
      "outputs": [
        {
          "output_type": "stream",
          "text": [
            "Epoch 1/10\n",
            "5627/5627 [==============================] - 23s 4ms/step - loss: 0.8617 - accuracy: 0.6732 - val_loss: 0.7743 - val_accuracy: 0.7146\n",
            "Epoch 2/10\n",
            "5627/5627 [==============================] - 22s 4ms/step - loss: 0.7461 - accuracy: 0.7249 - val_loss: 0.7250 - val_accuracy: 0.7364\n",
            "Epoch 3/10\n",
            "5627/5627 [==============================] - 22s 4ms/step - loss: 0.7075 - accuracy: 0.7413 - val_loss: 0.6980 - val_accuracy: 0.7474\n",
            "Epoch 4/10\n",
            "5627/5627 [==============================] - 22s 4ms/step - loss: 0.6836 - accuracy: 0.7503 - val_loss: 0.6802 - val_accuracy: 0.7540\n",
            "Epoch 5/10\n",
            "5627/5627 [==============================] - 22s 4ms/step - loss: 0.6665 - accuracy: 0.7579 - val_loss: 0.6674 - val_accuracy: 0.7594\n",
            "Epoch 6/10\n",
            "5627/5627 [==============================] - 22s 4ms/step - loss: 0.6532 - accuracy: 0.7633 - val_loss: 0.6579 - val_accuracy: 0.7638\n",
            "Epoch 7/10\n",
            "5627/5627 [==============================] - 22s 4ms/step - loss: 0.6425 - accuracy: 0.7677 - val_loss: 0.6498 - val_accuracy: 0.7665\n",
            "Epoch 8/10\n",
            "5627/5627 [==============================] - 23s 4ms/step - loss: 0.6337 - accuracy: 0.7712 - val_loss: 0.6438 - val_accuracy: 0.7700\n",
            "Epoch 9/10\n",
            "5627/5627 [==============================] - 22s 4ms/step - loss: 0.6264 - accuracy: 0.7746 - val_loss: 0.6383 - val_accuracy: 0.7718\n",
            "Epoch 10/10\n",
            "5627/5627 [==============================] - 22s 4ms/step - loss: 0.6201 - accuracy: 0.7769 - val_loss: 0.6339 - val_accuracy: 0.7735\n"
          ],
          "name": "stdout"
        }
      ]
    },
    {
      "cell_type": "code",
      "metadata": {
        "colab": {
          "base_uri": "https://localhost:8080/"
        },
        "id": "OCN5jCrXPy1W",
        "outputId": "78fecf8c-87af-41a0-c6dd-0fede4babb51"
      },
      "source": [
        "model_2.evaluate(test_dataset)"
      ],
      "execution_count": null,
      "outputs": [
        {
          "output_type": "stream",
          "text": [
            "942/942 [==============================] - 3s 3ms/step - loss: 0.6539 - accuracy: 0.7634\n"
          ],
          "name": "stdout"
        },
        {
          "output_type": "execute_result",
          "data": {
            "text/plain": [
              "[0.6538878679275513, 0.763364851474762]"
            ]
          },
          "metadata": {
            "tags": []
          },
          "execution_count": 48
        }
      ]
    },
    {
      "cell_type": "code",
      "metadata": {
        "colab": {
          "base_uri": "https://localhost:8080/"
        },
        "id": "RzkFKBsWObW3",
        "outputId": "8849ed07-ba5b-4cb7-a521-9375fbdf6c4f"
      },
      "source": [
        "# Model 2 metrics\n",
        "model_2_probs = model_2.predict(test_sentences)\n",
        "model_2_preds = tf.argmax(model_2_probs, axis = 1)\n",
        "model_2_results = model_evaluation(test_labels_int, model_2_preds)\n",
        "model_2_results"
      ],
      "execution_count": null,
      "outputs": [
        {
          "output_type": "execute_result",
          "data": {
            "text/plain": [
              "{'Accuracy': 0.7633648581383773,\n",
              " 'F1': 0.758062353751148,\n",
              " 'Precision': 0.7585501399980066,\n",
              " 'Recall': 0.7633648581383773}"
            ]
          },
          "metadata": {
            "tags": []
          },
          "execution_count": 49
        }
      ]
    },
    {
      "cell_type": "markdown",
      "metadata": {
        "id": "ph86RJh9QjLn"
      },
      "source": [
        "## Model 3: Conv1D with Character-level Embedding"
      ]
    },
    {
      "cell_type": "code",
      "metadata": {
        "id": "MsLIYxS50B_D"
      },
      "source": [
        "# Defining a function to split each sentence into sequences of characters\n",
        "def split_chars(text):\n",
        "  return \" \".join(list(text))"
      ],
      "execution_count": null,
      "outputs": []
    },
    {
      "cell_type": "code",
      "metadata": {
        "colab": {
          "base_uri": "https://localhost:8080/",
          "height": 102
        },
        "id": "AQyaDgPx8SbH",
        "outputId": "ca1386d8-33fc-4642-efb9-51e3efeab8b2"
      },
      "source": [
        "split_chars(train_sentences[0])"
      ],
      "execution_count": null,
      "outputs": [
        {
          "output_type": "execute_result",
          "data": {
            "application/vnd.google.colaboratory.intrinsic+json": {
              "type": "string"
            },
            "text/plain": [
              "'t o   i n v e s t i g a t e   t h e   e f f i c a c y   o f   @   w e e k s   o f   d a i l y   l o w - d o s e   o r a l   p r e d n i s o l o n e   i n   i m p r o v i n g   p a i n   ,   m o b i l i t y   ,   a n d   s y s t e m i c   l o w - g r a d e   i n f l a m m a t i o n   i n   t h e   s h o r t   t e r m   a n d   w h e t h e r   t h e   e f f e c t   w o u l d   b e   s u s t a i n e d   a t   @   w e e k s   i n   o l d e r   a d u l t s   w i t h   m o d e r a t e   t o   s e v e r e   k n e e   o s t e o a r t h r i t i s   (   o a   )   .'"
            ]
          },
          "metadata": {
            "tags": []
          },
          "execution_count": 53
        }
      ]
    },
    {
      "cell_type": "code",
      "metadata": {
        "id": "M25uS_Jh8IDF"
      },
      "source": [
        "# Applying the character splitting function to the three datasets\n",
        "train_chars = [split_chars(sentence) for sentence in train_sentences]\n",
        "val_chars = [split_chars(sentence) for sentence in validation_sentences]\n",
        "test_chars = [split_chars(sentence) for sentence in test_sentences]"
      ],
      "execution_count": null,
      "outputs": []
    },
    {
      "cell_type": "code",
      "metadata": {
        "id": "RRVBC8KcCOF3"
      },
      "source": [
        "# Creating tf.data datasets from the new character datasets\n",
        "train_char_dataset = tf.data.Dataset.from_tensor_slices((train_chars, train_labels_one_hot)).batch(32).prefetch(tf.data.AUTOTUNE)\n",
        "val_char_dataset = tf.data.Dataset.from_tensor_slices((val_chars, validation_labels_one_hot)).batch(32).prefetch(tf.data.AUTOTUNE)\n",
        "test_char_dataset = tf.data.Dataset.from_tensor_slices((test_chars, test_labels_one_hot)).batch(32).prefetch(tf.data.AUTOTUNE)"
      ],
      "execution_count": null,
      "outputs": []
    },
    {
      "cell_type": "code",
      "metadata": {
        "id": "VHUvKE8S84g0"
      },
      "source": [
        "# Finding the 95th percentile of character lengths for the vectorizer layer\n",
        "train_chars_len = [len(i) for i in train_chars]\n",
        "MAX_LENGTH = int(np.percentile(train_chars_len, 95))"
      ],
      "execution_count": null,
      "outputs": []
    },
    {
      "cell_type": "code",
      "metadata": {
        "id": "xwy_S1dB8Rvr"
      },
      "source": [
        "import string\n",
        "\n",
        "alphabet = string.ascii_lowercase + string.digits # Finding the number of alphanumeric characters in the alphabet\n",
        "MAX_CHARS = len(alphabet) + 2\n",
        "\n",
        "# Creating the vectorizer layer\n",
        "chars_tokenizer = TextVectorization(max_tokens = MAX_CHARS,\n",
        "                                    output_sequence_length = MAX_LENGTH)\n",
        "\n",
        "# Adapting the vectorizer\n",
        "chars_tokenizer.adapt(train_chars)"
      ],
      "execution_count": null,
      "outputs": []
    },
    {
      "cell_type": "code",
      "metadata": {
        "id": "vEH9ueVN-M6f"
      },
      "source": [
        "# Creating the embedding layer\n",
        "VOCAB_SIZE = len(chars_tokenizer.get_vocabulary())\n",
        "CHARS_EMBED = 25\n",
        "chars_embedder = layers.Embedding(input_dim = VOCAB_SIZE,\n",
        "                                  output_dim = CHARS_EMBED,\n",
        "                                  mask_zero = True)"
      ],
      "execution_count": null,
      "outputs": []
    },
    {
      "cell_type": "code",
      "metadata": {
        "id": "FbDpH_MCAS_R"
      },
      "source": [
        "# Outlining the model\n",
        "inputs = layers.Input(shape = (1, ), dtype = tf.string)\n",
        "tokens = chars_tokenizer(inputs)\n",
        "embeddings = chars_embedder(tokens)\n",
        "x = layers.Conv1D(filters = 64,\n",
        "                  kernel_size = 3,\n",
        "                  padding = 'same',\n",
        "                  activation = 'relu')(embeddings)\n",
        "x = layers.GlobalAveragePooling1D()(x)\n",
        "x = layers.Dense(64)(x)\n",
        "x = layers.Dense(5)(x)\n",
        "outputs = layers.Activation(activation = 'softmax')(x)"
      ],
      "execution_count": null,
      "outputs": []
    },
    {
      "cell_type": "code",
      "metadata": {
        "colab": {
          "base_uri": "https://localhost:8080/"
        },
        "id": "G0Cm_wZHBXa_",
        "outputId": "9b5a78f6-cf1b-4ba4-af6e-8396fc14c9c1"
      },
      "source": [
        "# Creating and compiling the model\n",
        "model_3 = tf.keras.Model(inputs = inputs, outputs = outputs)\n",
        "model_3.compile(optimizer = tf.keras.optimizers.Adam(),\n",
        "                loss = tf.keras.losses.CategoricalCrossentropy(),\n",
        "                metrics = ['accuracy'])\n",
        "model_3.summary()"
      ],
      "execution_count": null,
      "outputs": [
        {
          "output_type": "stream",
          "text": [
            "Model: \"model_3\"\n",
            "_________________________________________________________________\n",
            "Layer (type)                 Output Shape              Param #   \n",
            "=================================================================\n",
            "input_4 (InputLayer)         [(None, 1)]               0         \n",
            "_________________________________________________________________\n",
            "text_vectorization_2 (TextVe (None, 579)               0         \n",
            "_________________________________________________________________\n",
            "embedding_2 (Embedding)      (None, 579, 25)           700       \n",
            "_________________________________________________________________\n",
            "conv1d_2 (Conv1D)            (None, 579, 64)           4864      \n",
            "_________________________________________________________________\n",
            "global_average_pooling1d_3 ( (None, 64)                0         \n",
            "_________________________________________________________________\n",
            "dense_5 (Dense)              (None, 64)                4160      \n",
            "_________________________________________________________________\n",
            "dense_6 (Dense)              (None, 5)                 325       \n",
            "_________________________________________________________________\n",
            "activation_3 (Activation)    (None, 5)                 0         \n",
            "=================================================================\n",
            "Total params: 10,049\n",
            "Trainable params: 10,049\n",
            "Non-trainable params: 0\n",
            "_________________________________________________________________\n"
          ],
          "name": "stdout"
        }
      ]
    },
    {
      "cell_type": "code",
      "metadata": {
        "colab": {
          "base_uri": "https://localhost:8080/"
        },
        "id": "WRgg4XqvBjU1",
        "outputId": "a919351b-e630-4d6c-c76c-9273f371d128"
      },
      "source": [
        "# Creating the TensorBoard callback for model 3\n",
        "tensorboard_cb = tf.keras.callbacks.TensorBoard(log_dir = \"/content/TensorBoard/model_3_conv1d_char_tokens\")\n",
        "\n",
        "# Fitting the model\n",
        "model_3.fit(train_char_dataset,\n",
        "            epochs = 10,\n",
        "            verbose = 1,\n",
        "            validation_data = val_char_dataset,\n",
        "            callbacks = [early_stopper, tensorboard_cb])"
      ],
      "execution_count": null,
      "outputs": [
        {
          "output_type": "stream",
          "text": [
            "Epoch 1/10\n",
            "5627/5627 [==============================] - 36s 6ms/step - loss: 1.3062 - accuracy: 0.4484 - val_loss: 1.2360 - val_accuracy: 0.4781\n",
            "Epoch 2/10\n",
            "5627/5627 [==============================] - 35s 6ms/step - loss: 1.1695 - accuracy: 0.5123 - val_loss: 1.0879 - val_accuracy: 0.5485\n",
            "Epoch 3/10\n",
            "5627/5627 [==============================] - 35s 6ms/step - loss: 1.0472 - accuracy: 0.5711 - val_loss: 0.9866 - val_accuracy: 0.6019\n",
            "Epoch 4/10\n",
            "5627/5627 [==============================] - 35s 6ms/step - loss: 0.9688 - accuracy: 0.6089 - val_loss: 0.9256 - val_accuracy: 0.6283\n",
            "Epoch 5/10\n",
            "5627/5627 [==============================] - 35s 6ms/step - loss: 0.9232 - accuracy: 0.6310 - val_loss: 0.8880 - val_accuracy: 0.6472\n",
            "Epoch 6/10\n",
            "5627/5627 [==============================] - 35s 6ms/step - loss: 0.8933 - accuracy: 0.6455 - val_loss: 0.8650 - val_accuracy: 0.6568\n",
            "Epoch 7/10\n",
            "5627/5627 [==============================] - 35s 6ms/step - loss: 0.8725 - accuracy: 0.6554 - val_loss: 0.8483 - val_accuracy: 0.6670\n",
            "Epoch 8/10\n",
            "5627/5627 [==============================] - 35s 6ms/step - loss: 0.8570 - accuracy: 0.6629 - val_loss: 0.8332 - val_accuracy: 0.6747\n",
            "Epoch 9/10\n",
            "5627/5627 [==============================] - 35s 6ms/step - loss: 0.8440 - accuracy: 0.6694 - val_loss: 0.8177 - val_accuracy: 0.6821\n",
            "Epoch 10/10\n",
            "5627/5627 [==============================] - 35s 6ms/step - loss: 0.8326 - accuracy: 0.6753 - val_loss: 0.8041 - val_accuracy: 0.6897\n"
          ],
          "name": "stdout"
        },
        {
          "output_type": "execute_result",
          "data": {
            "text/plain": [
              "<tensorflow.python.keras.callbacks.History at 0x7f5dc1eba450>"
            ]
          },
          "metadata": {
            "tags": []
          },
          "execution_count": 89
        }
      ]
    },
    {
      "cell_type": "code",
      "metadata": {
        "colab": {
          "base_uri": "https://localhost:8080/"
        },
        "id": "vk44ixtjDEif",
        "outputId": "fc3ceb0b-755f-4d8f-e664-8ed7a075c791"
      },
      "source": [
        "model_3.evaluate(test_char_dataset)"
      ],
      "execution_count": null,
      "outputs": [
        {
          "output_type": "stream",
          "text": [
            "942/942 [==============================] - 4s 4ms/step - loss: 0.8087 - accuracy: 0.6866\n"
          ],
          "name": "stdout"
        },
        {
          "output_type": "execute_result",
          "data": {
            "text/plain": [
              "[0.8086702227592468, 0.6865770816802979]"
            ]
          },
          "metadata": {
            "tags": []
          },
          "execution_count": 90
        }
      ]
    },
    {
      "cell_type": "code",
      "metadata": {
        "colab": {
          "base_uri": "https://localhost:8080/"
        },
        "id": "Pfj0zEnYDcKY",
        "outputId": "9ec83f91-e09a-4152-b23f-ac62360001b0"
      },
      "source": [
        "# Model 3 metrics\n",
        "model_3_probs = model_3.predict(test_chars)\n",
        "model_3_preds = tf.argmax(model_3_probs, axis = 1)\n",
        "model_3_results = model_evaluation(test_labels_int, model_3_preds)\n",
        "model_3_results"
      ],
      "execution_count": null,
      "outputs": [
        {
          "output_type": "execute_result",
          "data": {
            "text/plain": [
              "{'Accuracy': 0.6865770698523311,\n",
              " 'F1': 0.6837048546532107,\n",
              " 'Precision': 0.6850877603296084,\n",
              " 'Recall': 0.6865770698523311}"
            ]
          },
          "metadata": {
            "tags": []
          },
          "execution_count": 92
        }
      ]
    },
    {
      "cell_type": "markdown",
      "metadata": {
        "id": "G0b664ZQErGl"
      },
      "source": [
        "## Model 4: Hybrid Token and Character Embeddings\n",
        "Model 4 and 5 will use a feature extraction layer derived from the USE vectorizer instead of the Stanford Glove vectorizer\n"
      ]
    },
    {
      "cell_type": "code",
      "metadata": {
        "id": "K6IqaRg2L-h5"
      },
      "source": [
        "# Creating the USE embedding layer\n",
        "import tensorflow_hub as hub\n",
        "\n",
        "use_embedder = hub.KerasLayer(\"https://tfhub.dev/google/universal-sentence-encoder/4\",\n",
        "                              trainable = False,\n",
        "                              name = 'USE_Embedding')"
      ],
      "execution_count": null,
      "outputs": []
    },
    {
      "cell_type": "code",
      "metadata": {
        "id": "V1X429uyMxmv"
      },
      "source": [
        "# Outlining the model\n",
        "\n",
        "# Outlining the token-level model\n",
        "token_inputs = layers.Input(shape = [], dtype = tf.string, name = 'token_inputs_Layer')\n",
        "token_embeddings = use_embedder(token_inputs)\n",
        "token_dense = layers.Dense(128, activation = 'relu')(token_embeddings)\n",
        "token_model = tf.keras.Model(inputs = token_inputs, outputs = token_dense) # Token embeddings\n",
        "\n",
        "# Outlining the character-level model\n",
        "char_inputs = layers.Input(shape = (1, ), dtype = tf.string, name = 'char_inputs_Layer')\n",
        "char_vectors = chars_tokenizer(char_inputs)\n",
        "char_embeddings = chars_embedder(char_vectors)\n",
        "char_bi_lstm = layers.Bidirectional(layers.LSTM(24))(char_embeddings)\n",
        "char_dense = layers.Dense(128, activation = 'relu')(char_bi_lstm)\n",
        "char_model = tf.keras.Model(inputs = char_inputs, outputs = char_dense) # Character embeddings\n",
        "\n",
        "# Concatenating the token-level model and the character-level model\n",
        "hybrid_concat = layers.Concatenate(name = 'token_char_concat')([token_model.output, char_model.output])\n",
        "hybrid_drop = layers.Dropout(rate = 0.5)(hybrid_concat) # Specifying a dropout rate for the weights\n",
        "hybrid_dense = layers.Dense(128, activation = 'relu')(hybrid_drop) # Last fully connected layer\n",
        "hybrid_drop_2 = layers.Dropout(rate = 0.5)(hybrid_dense) # Second dropout layer\n",
        "final_outputs = layers.Dense(5, activation = 'softmax')(hybrid_drop_2) # Softmax classification\n",
        "model_4 = tf.keras.Model(inputs = [token_model.input, char_model.input], # Hybrid model with both embeddings\n",
        "                         outputs = final_outputs)\n",
        "\n",
        "# Compiling the model\n",
        "model_4.compile(optimizer = tf.keras.optimizers.Adam(),\n",
        "                loss = tf.keras.losses.CategoricalCrossentropy(),\n",
        "                metrics = ['accuracy'])\n"
      ],
      "execution_count": null,
      "outputs": []
    },
    {
      "cell_type": "code",
      "metadata": {
        "colab": {
          "base_uri": "https://localhost:8080/"
        },
        "id": "L1_vmi-VagmM",
        "outputId": "792ceb11-2c32-486b-b9fe-69591ee9cfe3"
      },
      "source": [
        "model_4.summary()"
      ],
      "execution_count": null,
      "outputs": [
        {
          "output_type": "stream",
          "text": [
            "Model: \"model_6\"\n",
            "__________________________________________________________________________________________________\n",
            "Layer (type)                    Output Shape         Param #     Connected to                     \n",
            "==================================================================================================\n",
            "char_inputs_Layer (InputLayer)  [(None, 1)]          0                                            \n",
            "__________________________________________________________________________________________________\n",
            "text_vectorization_2 (TextVecto (None, 579)          0           char_inputs_Layer[0][0]          \n",
            "__________________________________________________________________________________________________\n",
            "token_inputs_Layer (InputLayer) [(None,)]            0                                            \n",
            "__________________________________________________________________________________________________\n",
            "embedding_2 (Embedding)         (None, 579, 25)      700         text_vectorization_2[2][0]       \n",
            "__________________________________________________________________________________________________\n",
            "USE_Embedding (KerasLayer)      (None, 512)          256797824   token_inputs_Layer[0][0]         \n",
            "__________________________________________________________________________________________________\n",
            "bidirectional (Bidirectional)   (None, 48)           9600        embedding_2[2][0]                \n",
            "__________________________________________________________________________________________________\n",
            "dense_7 (Dense)                 (None, 128)          65664       USE_Embedding[0][0]              \n",
            "__________________________________________________________________________________________________\n",
            "dense_8 (Dense)                 (None, 128)          6272        bidirectional[0][0]              \n",
            "__________________________________________________________________________________________________\n",
            "token_char_concat (Concatenate) (None, 256)          0           dense_7[0][0]                    \n",
            "                                                                 dense_8[0][0]                    \n",
            "__________________________________________________________________________________________________\n",
            "dropout (Dropout)               (None, 256)          0           token_char_concat[0][0]          \n",
            "__________________________________________________________________________________________________\n",
            "dense_9 (Dense)                 (None, 128)          32896       dropout[0][0]                    \n",
            "__________________________________________________________________________________________________\n",
            "dropout_1 (Dropout)             (None, 128)          0           dense_9[0][0]                    \n",
            "__________________________________________________________________________________________________\n",
            "dense_10 (Dense)                (None, 5)            645         dropout_1[0][0]                  \n",
            "==================================================================================================\n",
            "Total params: 256,913,601\n",
            "Trainable params: 115,777\n",
            "Non-trainable params: 256,797,824\n",
            "__________________________________________________________________________________________________\n"
          ],
          "name": "stdout"
        }
      ]
    },
    {
      "cell_type": "code",
      "metadata": {
        "colab": {
          "base_uri": "https://localhost:8080/",
          "height": 953
        },
        "id": "vm9lEQCZaFr5",
        "outputId": "546a4fc3-59d2-466b-83dc-ffd6fe26a61f"
      },
      "source": [
        "from tensorflow.keras.utils import plot_model\n",
        "plot_model(model_4, show_shapes = True)"
      ],
      "execution_count": null,
      "outputs": [
        {
          "output_type": "execute_result",
          "data": {
            "image/png": "[encoded data removed]",
            "text/plain": [
              "<IPython.core.display.Image object>"
            ]
          },
          "metadata": {
            "tags": []
          },
          "execution_count": 96
        }
      ]
    },
    {
      "cell_type": "code",
      "metadata": {
        "id": "3u8PdftMaTdL"
      },
      "source": [
        "# Creating tf.data datasets from both character and token datasets\n",
        "train_char_tokens = tf.data.Dataset.from_tensor_slices((train_sentences, train_chars)) # Training character-token dataset\n",
        "train_char_tokens_labels = tf.data.Dataset.from_tensor_slices(train_labels_one_hot) # Training character-token labels\n",
        "train_char_tokens_dt = tf.data.Dataset.zip((train_char_tokens, train_char_tokens_labels)) # Combining the character-token datasets\n",
        "train_char_tokens_dt = train_char_tokens_dt.batch(32).prefetch(tf.data.AUTOTUNE) # Batching and autotuning the fetching process"
      ],
      "execution_count": null,
      "outputs": []
    },
    {
      "cell_type": "code",
      "metadata": {
        "id": "cKS-U6GAfTVR"
      },
      "source": [
        "val_char_tokens = tf.data.Dataset.from_tensor_slices((validation_sentences, val_chars))\n",
        "val_char_tokens_labels = tf.data.Dataset.from_tensor_slices(validation_labels_one_hot)\n",
        "val_char_tokens_dt = tf.data.Dataset.zip((val_char_tokens, val_char_tokens_labels))\n",
        "val_char_tokens_dt = val_char_tokens_dt.batch(32).prefetch(tf.data.AUTOTUNE)"
      ],
      "execution_count": null,
      "outputs": []
    },
    {
      "cell_type": "code",
      "metadata": {
        "id": "xRZ4W9mUffl4"
      },
      "source": [
        "test_char_tokens = tf.data.Dataset.from_tensor_slices((test_sentences, test_chars))\n",
        "test_char_tokens_labels = tf.data.Dataset.from_tensor_slices(test_labels_one_hot)\n",
        "test_char_tokens_dt = tf.data.Dataset.zip((test_char_tokens, test_char_tokens_labels))\n",
        "test_char_tokens_dt = test_char_tokens_dt.batch(32).prefetch(tf.data.AUTOTUNE)"
      ],
      "execution_count": null,
      "outputs": []
    },
    {
      "cell_type": "code",
      "metadata": {
        "colab": {
          "base_uri": "https://localhost:8080/"
        },
        "id": "IcSpFmRhftsM",
        "outputId": "a00325bc-3437-405f-e4d2-b67b62164cb6"
      },
      "source": [
        "# Creating TensorBoard callback for model 4\n",
        "tensorboard_cb = tf.keras.callbacks.TensorBoard(log_dir = '/content/TensorBoard/model_4_hybrid')\n",
        "\n",
        "# Fitting the model\n",
        "history_4 = model_4.fit(train_char_tokens_dt,\n",
        "            epochs = 10,\n",
        "            verbose = 1,\n",
        "            callbacks = [early_stopper, tensorboard_cb],\n",
        "            validation_data = val_char_tokens_dt)"
      ],
      "execution_count": null,
      "outputs": [
        {
          "output_type": "stream",
          "text": [
            "Epoch 1/10\n",
            "5627/5627 [==============================] - 304s 53ms/step - loss: 0.7440 - accuracy: 0.7167 - val_loss: 0.6178 - val_accuracy: 0.7639\n",
            "Epoch 2/10\n",
            "5627/5627 [==============================] - 293s 52ms/step - loss: 0.6597 - accuracy: 0.7522 - val_loss: 0.5857 - val_accuracy: 0.7756\n",
            "Epoch 3/10\n",
            "5627/5627 [==============================] - 291s 52ms/step - loss: 0.6333 - accuracy: 0.7626 - val_loss: 0.5706 - val_accuracy: 0.7836\n",
            "Epoch 4/10\n",
            "5627/5627 [==============================] - 293s 52ms/step - loss: 0.6158 - accuracy: 0.7685 - val_loss: 0.5611 - val_accuracy: 0.7866\n",
            "Epoch 5/10\n",
            "5627/5627 [==============================] - 292s 52ms/step - loss: 0.6037 - accuracy: 0.7737 - val_loss: 0.5566 - val_accuracy: 0.7896\n",
            "Epoch 6/10\n",
            "5627/5627 [==============================] - 294s 52ms/step - loss: 0.5921 - accuracy: 0.7781 - val_loss: 0.5458 - val_accuracy: 0.7939\n",
            "Epoch 7/10\n",
            "5627/5627 [==============================] - 295s 52ms/step - loss: 0.5903 - accuracy: 0.7798 - val_loss: 0.5450 - val_accuracy: 0.7945\n",
            "Epoch 8/10\n",
            "5627/5627 [==============================] - 295s 52ms/step - loss: 0.5781 - accuracy: 0.7847 - val_loss: 0.5350 - val_accuracy: 0.7995\n",
            "Epoch 9/10\n",
            "5627/5627 [==============================] - 292s 52ms/step - loss: 0.5721 - accuracy: 0.7872 - val_loss: 0.5313 - val_accuracy: 0.8006\n",
            "Epoch 10/10\n",
            "5627/5627 [==============================] - 293s 52ms/step - loss: 0.5720 - accuracy: 0.7855 - val_loss: 0.5375 - val_accuracy: 0.7987\n"
          ],
          "name": "stdout"
        }
      ]
    },
    {
      "cell_type": "code",
      "metadata": {
        "colab": {
          "base_uri": "https://localhost:8080/"
        },
        "id": "sbSCxsVegFaU",
        "outputId": "385e2f15-acba-420f-b841-6222d0e3f8a6"
      },
      "source": [
        "model_4.evaluate(test_char_tokens_dt)"
      ],
      "execution_count": null,
      "outputs": [
        {
          "output_type": "stream",
          "text": [
            "942/942 [==============================] - 21s 22ms/step - loss: 0.5558 - accuracy: 0.7913\n"
          ],
          "name": "stdout"
        },
        {
          "output_type": "execute_result",
          "data": {
            "text/plain": [
              "[0.5558127760887146, 0.7913057804107666]"
            ]
          },
          "metadata": {
            "tags": []
          },
          "execution_count": 111
        }
      ]
    },
    {
      "cell_type": "code",
      "metadata": {
        "colab": {
          "base_uri": "https://localhost:8080/"
        },
        "id": "UAtgN1ZmgZpp",
        "outputId": "5ade2574-4ff3-4e17-983b-81e84878ad4f"
      },
      "source": [
        "# Model 4 metrics\n",
        "model_4_probs = model_4.predict(test_char_tokens_dt)\n",
        "model_4_preds = tf.argmax(model_4_probs, axis = 1)\n",
        "model_4_results = model_evaluation(test_labels_int, model_4_preds)\n",
        "model_4_results"
      ],
      "execution_count": null,
      "outputs": [
        {
          "output_type": "execute_result",
          "data": {
            "text/plain": [
              "{'Accuracy': 0.7913057906089265,\n",
              " 'F1': 0.7866231301404458,\n",
              " 'Precision': 0.7892478176274277,\n",
              " 'Recall': 0.7913057906089265}"
            ]
          },
          "metadata": {
            "tags": []
          },
          "execution_count": 113
        }
      ]
    },
    {
      "cell_type": "markdown",
      "metadata": {
        "id": "kQwjQkSLuts0"
      },
      "source": [
        "## Model 5: Tribrid with Tokens, Character and Positional Embeddings"
      ]
    },
    {
      "cell_type": "code",
      "metadata": {
        "colab": {
          "base_uri": "https://localhost:8080/",
          "height": 196
        },
        "id": "H8SlM3ojvCwx",
        "outputId": "bd7d5e97-fc03-46f9-a2a4-035f5db6482c"
      },
      "source": [
        "train_df.head()"
      ],
      "execution_count": null,
      "outputs": [
        {
          "output_type": "execute_result",
          "data": {
            "text/html": [
              "<div>\n",
              "<style scoped>\n",
              "    .dataframe tbody tr th:only-of-type {\n",
              "        vertical-align: middle;\n",
              "    }\n",
              "\n",
              "    .dataframe tbody tr th {\n",
              "        vertical-align: top;\n",
              "    }\n",
              "\n",
              "    .dataframe thead th {\n",
              "        text-align: right;\n",
              "    }\n",
              "</style>\n",
              "<table border=\"1\" class=\"dataframe\">\n",
              "  <thead>\n",
              "    <tr style=\"text-align: right;\">\n",
              "      <th></th>\n",
              "      <th>target</th>\n",
              "      <th>text</th>\n",
              "      <th>line number</th>\n",
              "      <th>total lines</th>\n",
              "    </tr>\n",
              "  </thead>\n",
              "  <tbody>\n",
              "    <tr>\n",
              "      <th>0</th>\n",
              "      <td>OBJECTIVE</td>\n",
              "      <td>to investigate the efficacy of @ weeks of dail...</td>\n",
              "      <td>0</td>\n",
              "      <td>11</td>\n",
              "    </tr>\n",
              "    <tr>\n",
              "      <th>1</th>\n",
              "      <td>METHODS</td>\n",
              "      <td>a total of @ patients with primary knee oa wer...</td>\n",
              "      <td>1</td>\n",
              "      <td>11</td>\n",
              "    </tr>\n",
              "    <tr>\n",
              "      <th>2</th>\n",
              "      <td>METHODS</td>\n",
              "      <td>outcome measures included pain reduction and i...</td>\n",
              "      <td>2</td>\n",
              "      <td>11</td>\n",
              "    </tr>\n",
              "    <tr>\n",
              "      <th>3</th>\n",
              "      <td>METHODS</td>\n",
              "      <td>pain was assessed using the visual analog pain...</td>\n",
              "      <td>3</td>\n",
              "      <td>11</td>\n",
              "    </tr>\n",
              "    <tr>\n",
              "      <th>4</th>\n",
              "      <td>METHODS</td>\n",
              "      <td>secondary outcome measures included the wester...</td>\n",
              "      <td>4</td>\n",
              "      <td>11</td>\n",
              "    </tr>\n",
              "  </tbody>\n",
              "</table>\n",
              "</div>"
            ],
            "text/plain": [
              "      target  ... total lines\n",
              "0  OBJECTIVE  ...          11\n",
              "1    METHODS  ...          11\n",
              "2    METHODS  ...          11\n",
              "3    METHODS  ...          11\n",
              "4    METHODS  ...          11\n",
              "\n",
              "[5 rows x 4 columns]"
            ]
          },
          "metadata": {
            "tags": []
          },
          "execution_count": 115
        }
      ]
    },
    {
      "cell_type": "code",
      "metadata": {
        "colab": {
          "base_uri": "https://localhost:8080/"
        },
        "id": "-2hx1oIYvK08",
        "outputId": "29d806b9-203c-4077-81c6-6f8016c08646"
      },
      "source": [
        "# Finding the 98th percentile of line numbers\n",
        "np.percentile(train_df['line number'], 98)"
      ],
      "execution_count": null,
      "outputs": [
        {
          "output_type": "execute_result",
          "data": {
            "text/plain": [
              "15.0"
            ]
          },
          "metadata": {
            "tags": []
          },
          "execution_count": 119
        }
      ]
    },
    {
      "cell_type": "code",
      "metadata": {
        "id": "KDYI7mSXvSTa"
      },
      "source": [
        "# One-hot encoding the line number feature in each dataset\n",
        "line_number_one_hot = tf.one_hot(train_df['line number'].to_numpy(),\n",
        "                                 depth = np.percentile(train_df['line number'], 98))\n",
        "total_lines_one_hot = tf.one_hot(train_df['total lines'].to_numpy(),\n",
        "                                 depth = np.percentile(train_df['total lines'], 98))"
      ],
      "execution_count": null,
      "outputs": []
    },
    {
      "cell_type": "code",
      "metadata": {
        "id": "TmsWCyyt3J0O"
      },
      "source": [
        "val_line_number_one_hot = tf.one_hot(validation_df['line number'].to_numpy(),\n",
        "                                 depth = np.percentile(validation_df['line number'], 98))\n",
        "val_total_lines_one_hot = tf.one_hot(validation_df['total lines'].to_numpy(),\n",
        "                                 depth = np.percentile(validation_df['total lines'], 98))"
      ],
      "execution_count": null,
      "outputs": []
    },
    {
      "cell_type": "code",
      "metadata": {
        "colab": {
          "base_uri": "https://localhost:8080/"
        },
        "id": "xdWU_J4tv2j9",
        "outputId": "30e732a9-0f3b-4c97-d7f8-bce5ef0fc01e"
      },
      "source": [
        "line_number_one_hot, total_lines_one_hot"
      ],
      "execution_count": null,
      "outputs": [
        {
          "output_type": "execute_result",
          "data": {
            "text/plain": [
              "(<tf.Tensor: shape=(180040, 15), dtype=float32, numpy=\n",
              " array([[1., 0., 0., ..., 0., 0., 0.],\n",
              "        [0., 1., 0., ..., 0., 0., 0.],\n",
              "        [0., 0., 1., ..., 0., 0., 0.],\n",
              "        ...,\n",
              "        [0., 0., 0., ..., 0., 0., 0.],\n",
              "        [0., 0., 0., ..., 0., 0., 0.],\n",
              "        [0., 0., 0., ..., 0., 0., 0.]], dtype=float32)>,\n",
              " <tf.Tensor: shape=(180040, 20), dtype=float32, numpy=\n",
              " array([[0., 0., 0., ..., 0., 0., 0.],\n",
              "        [0., 0., 0., ..., 0., 0., 0.],\n",
              "        [0., 0., 0., ..., 0., 0., 0.],\n",
              "        ...,\n",
              "        [0., 0., 0., ..., 0., 0., 0.],\n",
              "        [0., 0., 0., ..., 0., 0., 0.],\n",
              "        [0., 0., 0., ..., 0., 0., 0.]], dtype=float32)>)"
            ]
          },
          "metadata": {
            "tags": []
          },
          "execution_count": 121
        }
      ]
    },
    {
      "cell_type": "code",
      "metadata": {
        "id": "DpGjDup1v5DZ"
      },
      "source": [
        "# Outlining the model\n",
        "\n",
        "# Creating the token embeddings model\n",
        "token_inputs = layers.Input(shape = [], dtype = tf.string, name = 'token_inputs')\n",
        "token_embeddings = use_embedder(token_inputs) #Embedder for tokens\n",
        "token_dense = layers.Dense(128, activation = 'relu')(token_embeddings)\n",
        "token_model =  tf.keras.Model(inputs = token_inputs, outputs = token_dense,\n",
        "                              name = 'token_model')\n",
        "\n",
        "# Creating the character embeddings model\n",
        "char_inputs = layers.Input(shape = (1, ), dtype = tf.string, name = 'char_inputs')\n",
        "char_vectors = chars_tokenizer(char_inputs)\n",
        "char_embeddings = chars_embedder(char_vectors) #Character-level embeddings\n",
        "char_bi_lstm = layers.Bidirectional(layers.LSTM(24))(char_embeddings)\n",
        "char_model = tf.keras.Model(inputs = char_inputs, outputs = char_bi_lstm,\n",
        "                            name = 'char_model')\n",
        "\n",
        "# Creating the positional embeddings model\n",
        "line_number_inputs = layers.Input(shape = (15, ), dtype = tf.float32, name = 'line numbers')\n",
        "line_number_dense = layers.Dense(64, activation = 'relu')(line_number_inputs)\n",
        "line_number_model = tf.keras.Model(inputs = line_number_inputs,\n",
        "                                   outputs = line_number_dense)\n",
        "\n",
        "# Creating the total line input model\n",
        "total_line_inputs = layers.Input(shape = (20, ), dtype = tf.float32)\n",
        "total_line_dense = layers.Dense(64, activation = 'relu')(total_line_inputs)\n",
        "total_line_model = tf.keras.Model(inputs = total_line_inputs,\n",
        "                                  outputs = total_line_dense)\n",
        "\n",
        "# Creating the hybrid token-character model\n",
        "token_char_hybrid = layers.Concatenate()([token_model.output,\n",
        "                                        char_model.output])\n",
        "hybrid_dense = layers.Dense(128, activation = 'relu')(token_char_hybrid)\n",
        "dropout_1 = layers.Dropout(rate = 0.5)(hybrid_dense)\n",
        "\n",
        "# Concatenating the outputs into the final tribrid token-char-position model\n",
        "token_char_pos_tribrid = layers.Concatenate()([line_number_model.output,\n",
        "                                             total_line_model.output,\n",
        "                                             dropout_1])\n",
        "\n",
        "# Final dense layer\n",
        "final_outputs = layers.Dense(5, activation = 'softmax')(token_char_pos_tribrid)"
      ],
      "execution_count": null,
      "outputs": []
    },
    {
      "cell_type": "code",
      "metadata": {
        "colab": {
          "base_uri": "https://localhost:8080/"
        },
        "id": "BYaw6GjnzWHz",
        "outputId": "dca61b0e-cfba-4fb4-999d-fb66c5c07855"
      },
      "source": [
        "# Creating the model\n",
        "model_5 = tf.keras.Model(inputs = [token_model.input,\n",
        "                                   char_model.input,\n",
        "                                   line_number_model.input,\n",
        "                                   total_line_model.input],\n",
        "                         outputs = final_outputs)\n",
        "model_5.summary()"
      ],
      "execution_count": null,
      "outputs": [
        {
          "output_type": "stream",
          "text": [
            "Model: \"model_16\"\n",
            "__________________________________________________________________________________________________\n",
            "Layer (type)                    Output Shape         Param #     Connected to                     \n",
            "==================================================================================================\n",
            "char_inputs (InputLayer)        [(None, 1)]          0                                            \n",
            "__________________________________________________________________________________________________\n",
            "token_inputs (InputLayer)       [(None,)]            0                                            \n",
            "__________________________________________________________________________________________________\n",
            "text_vectorization_2 (TextVecto (None, 579)          0           char_inputs[0][0]                \n",
            "__________________________________________________________________________________________________\n",
            "USE_Embedding (KerasLayer)      (None, 512)          256797824   token_inputs[0][0]               \n",
            "__________________________________________________________________________________________________\n",
            "embedding_2 (Embedding)         (None, 579, 25)      700         text_vectorization_2[9][0]       \n",
            "__________________________________________________________________________________________________\n",
            "dense_30 (Dense)                (None, 128)          65664       USE_Embedding[7][0]              \n",
            "__________________________________________________________________________________________________\n",
            "bidirectional_7 (Bidirectional) (None, 48)           9600        embedding_2[9][0]                \n",
            "__________________________________________________________________________________________________\n",
            "concatenate_5 (Concatenate)     (None, 176)          0           dense_30[0][0]                   \n",
            "                                                                 bidirectional_7[0][0]            \n",
            "__________________________________________________________________________________________________\n",
            "line numbers (InputLayer)       [(None, 15)]         0                                            \n",
            "__________________________________________________________________________________________________\n",
            "input_7 (InputLayer)            [(None, 20)]         0                                            \n",
            "__________________________________________________________________________________________________\n",
            "dense_33 (Dense)                (None, 128)          22656       concatenate_5[0][0]              \n",
            "__________________________________________________________________________________________________\n",
            "dense_31 (Dense)                (None, 64)           1024        line numbers[0][0]               \n",
            "__________________________________________________________________________________________________\n",
            "dense_32 (Dense)                (None, 64)           1344        input_7[0][0]                    \n",
            "__________________________________________________________________________________________________\n",
            "dropout_5 (Dropout)             (None, 128)          0           dense_33[0][0]                   \n",
            "__________________________________________________________________________________________________\n",
            "concatenate_6 (Concatenate)     (None, 256)          0           dense_31[0][0]                   \n",
            "                                                                 dense_32[0][0]                   \n",
            "                                                                 dropout_5[0][0]                  \n",
            "__________________________________________________________________________________________________\n",
            "dense_34 (Dense)                (None, 5)            1285        concatenate_6[0][0]              \n",
            "==================================================================================================\n",
            "Total params: 256,900,097\n",
            "Trainable params: 102,273\n",
            "Non-trainable params: 256,797,824\n",
            "__________________________________________________________________________________________________\n"
          ],
          "name": "stdout"
        }
      ]
    },
    {
      "cell_type": "code",
      "metadata": {
        "colab": {
          "base_uri": "https://localhost:8080/",
          "height": 856
        },
        "id": "u9g-2H1H1q6B",
        "outputId": "96f01702-5efa-4df2-d6cb-1ceeeef68d9d"
      },
      "source": [
        "plot_model(model_5)"
      ],
      "execution_count": null,
      "outputs": [
        {
          "output_type": "execute_result",
          "data": {
            "image/png": "[encoded data removed]",
            "text/plain": [
              "<IPython.core.display.Image object>"
            ]
          },
          "metadata": {
            "tags": []
          },
          "execution_count": 129
        }
      ]
    },
    {
      "cell_type": "code",
      "metadata": {
        "id": "yjuo_HER1tpC"
      },
      "source": [
        "# Compiling the model\n",
        "model_5.compile(optimizer = tf.keras.optimizers.Adam(),\n",
        "                loss = tf.keras.losses.CategoricalCrossentropy(label_smoothing = 0.2),\n",
        "                metrics = ['accuracy'])"
      ],
      "execution_count": null,
      "outputs": []
    },
    {
      "cell_type": "code",
      "metadata": {
        "id": "hEQKyWEg2Jjq"
      },
      "source": [
        "# Creating the tf.data datasets for the model and batching and prefetching them\n",
        "train_tok_char_pos_features = tf.data.Dataset.from_tensor_slices((train_sentences,\n",
        "                                                                  train_chars,\n",
        "                                                                  line_number_one_hot,\n",
        "                                                                  total_lines_one_hot))\n",
        "train_labels_dataset = tf.data.Dataset.from_tensor_slices(train_labels_one_hot)\n",
        "train_features_dataset = tf.data.Dataset.zip((train_tok_char_pos_features, train_labels_dataset))\n",
        "train_features_dataset = train_features_dataset.batch(32).prefetch(tf.data.AUTOTUNE)"
      ],
      "execution_count": null,
      "outputs": []
    },
    {
      "cell_type": "code",
      "metadata": {
        "id": "fsdYAv2Z2ui2"
      },
      "source": [
        "val_tok_char_pos_features = tf.data.Dataset.from_tensor_slices((validation_sentences,\n",
        "                                                                  val_chars,\n",
        "                                                                  val_line_number_one_hot,\n",
        "                                                                  val_total_lines_one_hot))\n",
        "val_labels_dataset = tf.data.Dataset.from_tensor_slices(validation_labels_one_hot)\n",
        "val_features_dataset = tf.data.Dataset.zip((val_tok_char_pos_features, val_labels_dataset))\n",
        "val_features_dataset = val_features_dataset.batch(32).prefetch(tf.data.AUTOTUNE)"
      ],
      "execution_count": null,
      "outputs": []
    },
    {
      "cell_type": "code",
      "metadata": {
        "colab": {
          "base_uri": "https://localhost:8080/"
        },
        "id": "3BqEXXwm3gBM",
        "outputId": "1e6228e7-2f32-4ea4-8290-67be66f6fac5"
      },
      "source": [
        "train_features_dataset, val_features_dataset"
      ],
      "execution_count": null,
      "outputs": [
        {
          "output_type": "execute_result",
          "data": {
            "text/plain": [
              "(<PrefetchDataset shapes: (((None,), (None,), (None, 15), (None, 20)), (None, 5)), types: ((tf.string, tf.string, tf.float32, tf.float32), tf.float64)>,\n",
              " <PrefetchDataset shapes: (((None,), (None,), (None, 15), (None, 20)), (None, 5)), types: ((tf.string, tf.string, tf.float32, tf.float32), tf.float64)>)"
            ]
          },
          "metadata": {
            "tags": []
          },
          "execution_count": 137
        }
      ]
    },
    {
      "cell_type": "code",
      "metadata": {
        "colab": {
          "base_uri": "https://localhost:8080/"
        },
        "id": "9TjsVsLP3nH-",
        "outputId": "651ab7ce-9d24-41cc-d737-787fc87f1b40"
      },
      "source": [
        "# Creating the TensorBoard callback for model 5\n",
        "tensorboard_cb = tf.keras.callbacks.TensorBoard(log_dir = '/content/TensorBoard/model_5_tribrid')\n",
        "\n",
        "# Fitting the model\n",
        "history_5 = model_5.fit(train_features_dataset,\n",
        "                        epochs = 5,\n",
        "                        callbacks = [early_stopper, tensorboard_cb],\n",
        "                        verbose = 1,\n",
        "                        validation_data = val_features_dataset)"
      ],
      "execution_count": null,
      "outputs": [
        {
          "output_type": "stream",
          "text": [
            "Epoch 1/5\n",
            "5627/5627 [==============================] - 307s 53ms/step - loss: 0.9531 - accuracy: 0.8258 - val_loss: 0.9081 - val_accuracy: 0.8498\n",
            "Epoch 2/5\n",
            "5627/5627 [==============================] - 299s 53ms/step - loss: 0.9116 - accuracy: 0.8546 - val_loss: 0.8969 - val_accuracy: 0.8565\n",
            "Epoch 3/5\n",
            "5627/5627 [==============================] - 298s 53ms/step - loss: 0.8990 - accuracy: 0.8632 - val_loss: 0.8950 - val_accuracy: 0.8571\n",
            "Epoch 4/5\n",
            "5627/5627 [==============================] - 297s 53ms/step - loss: 0.8905 - accuracy: 0.8698 - val_loss: 0.8929 - val_accuracy: 0.8587\n",
            "Epoch 5/5\n",
            "5627/5627 [==============================] - 295s 52ms/step - loss: 0.8833 - accuracy: 0.8752 - val_loss: 0.8909 - val_accuracy: 0.8593\n"
          ],
          "name": "stdout"
        }
      ]
    },
    {
      "cell_type": "code",
      "metadata": {
        "colab": {
          "base_uri": "https://localhost:8080/"
        },
        "id": "s3ZvOMvo3_6E",
        "outputId": "0ffe95ef-08e4-4fa0-bcc1-4febb66fceb8"
      },
      "source": [
        "# Model 5 metrics\n",
        "model_5_probs = model_5.predict(val_features_dataset)\n",
        "model_5_preds = tf.argmax(model_5_probs, axis = 1)\n",
        "model_5_results = model_evaluation(validation_labels_int, model_5_preds)\n",
        "model_5_results"
      ],
      "execution_count": null,
      "outputs": [
        {
          "output_type": "execute_result",
          "data": {
            "text/plain": [
              "{'Accuracy': 0.8593274195683834,\n",
              " 'F1': 0.8566299984620642,\n",
              " 'Precision': 0.8609710572660495,\n",
              " 'Recall': 0.8593274195683834}"
            ]
          },
          "metadata": {
            "tags": []
          },
          "execution_count": 139
        }
      ]
    },
    {
      "cell_type": "code",
      "metadata": {
        "colab": {
          "base_uri": "https://localhost:8080/"
        },
        "id": "y42Hrj3t8nDk",
        "outputId": "e08a7755-1084-45f5-ea02-88232298da76"
      },
      "source": [
        "# Uploading the results to TensorBoard\n",
        "!tensorboard dev upload --logdir '/content/TensorBoard' \\\n",
        "  --name 'PubMed 20K RCT Models' \\\n",
        "  --one_shot"
      ],
      "execution_count": null,
      "outputs": [
        {
          "output_type": "stream",
          "text": [
            "2021-05-31 05:55:17.556619: I tensorflow/stream_executor/platform/default/dso_loader.cc:53] Successfully opened dynamic library libcudart.so.11.0\n",
            "\n",
            "***** TensorBoard Uploader *****\n",
            "\n",
            "This will upload your TensorBoard logs to https://tensorboard.dev/ from\n",
            "the following directory:\n",
            "\n",
            "/content/TensorBoard\n",
            "\n",
            "This TensorBoard will be visible to everyone. Do not upload sensitive\n",
            "data.\n",
            "\n",
            "Your use of this service is subject to Google's Terms of Service\n",
            "<https://policies.google.com/terms> and Privacy Policy\n",
            "<https://policies.google.com/privacy>, and TensorBoard.dev's Terms of Service\n",
            "<https://tensorboard.dev/policy/terms/>.\n",
            "\n",
            "This notice will not be shown again while you are logged into the uploader.\n",
            "To log out, run `tensorboard dev auth revoke`.\n",
            "\n",
            "Continue? (yes/NO) yes\n",
            "\n",
            "Please visit this URL to authorize this application: https://accounts.google.com/o/oauth2/auth?response_type=code&client_id=373649185512-8v619h5kft38l4456nm2dj4ubeqsrvh6.apps.googleusercontent.com&redirect_uri=urn%3Aietf%3Awg%3Aoauth%3A2.0%3Aoob&scope=openid+https%3A%2F%2Fwww.googleapis.com%2Fauth%2Fuserinfo.email&state=QxuopjHsuJGp9b8xN7w5GovtAJTYyx&prompt=consent&access_type=offline\n",
            "Enter the authorization code: 4/1AY0e-g7bsb6qn1j12d5ZjdqBwQZN6FIdll71I7vaLg-PezLmIax2CWygHQI\n",
            "\n",
            "Data for the \"text\" plugin is now uploaded to TensorBoard.dev! Note that uploaded data is public. If you do not want to upload data for this plugin, use the \"--plugins\" command line argument.\n",
            "\n",
            "New experiment created. View your TensorBoard at: https://tensorboard.dev/experiment/FJZ1XdEMT5GA9bTRWNkkmQ/\n",
            "\n",
            "\u001b[1m[2021-05-31T05:55:36]\u001b[0m Started scanning logdir.\n",
            "E0531 05:55:43.162347 139702842595200 uploader.py:1122] Attempted to re-upload existing blob.  Skipping.\n",
            "\u001b[1m[2021-05-31T05:55:45]\u001b[0m Total uploaded: 228 scalars, 0 tensors, 5 binary objects (4.4 MB)\n",
            "\u001b[90mTotal skipped: 1 binary objects (2.1 MB)\n",
            "\u001b[0m\u001b[1m[2021-05-31T05:55:45]\u001b[0m Done scanning logdir.\n",
            "\n",
            "\n",
            "Done. View your TensorBoard at https://tensorboard.dev/experiment/FJZ1XdEMT5GA9bTRWNkkmQ/\n"
          ],
          "name": "stdout"
        }
      ]
    }
  ]
}